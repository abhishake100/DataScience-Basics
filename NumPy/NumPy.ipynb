{
 "cells": [
  {
   "cell_type": "markdown",
   "metadata": {},
   "source": [
    "## Importing NumPy"
   ]
  },
  {
   "cell_type": "code",
   "execution_count": 2,
   "metadata": {},
   "outputs": [],
   "source": [
    "import numpy as np"
   ]
  },
  {
   "cell_type": "code",
   "execution_count": 4,
   "metadata": {},
   "outputs": [
    {
     "name": "stdout",
     "output_type": "stream",
     "text": [
      "[1 2 3 4]\n",
      "<class 'numpy.ndarray'>\n"
     ]
    }
   ],
   "source": [
    "a = np.array([1,2,3,4])\n",
    "print(a)\n",
    "print(type(a))"
   ]
  },
  {
   "cell_type": "code",
   "execution_count": 26,
   "metadata": {},
   "outputs": [
    {
     "name": "stdout",
     "output_type": "stream",
     "text": [
      "[['10' '20' '30']\n",
      " ['40' '50' '60']\n",
      " ['70' '80' '90']\n",
      " ['a' 'b' 'c']]\n"
     ]
    }
   ],
   "source": [
    "b = np.array([[10,20,30],[40,50,60],[70,80,90],['a','b','c']])\n",
    "print(b)"
   ]
  },
  {
   "cell_type": "markdown",
   "metadata": {},
   "source": [
    "### Get dimension of the array"
   ]
  },
  {
   "cell_type": "code",
   "execution_count": 38,
   "metadata": {},
   "outputs": [
    {
     "name": "stdout",
     "output_type": "stream",
     "text": [
      "1\n",
      "2\n"
     ]
    }
   ],
   "source": [
    "print(a.ndim)\n",
    "print(b.ndim)"
   ]
  },
  {
   "cell_type": "markdown",
   "metadata": {},
   "source": [
    "### Get shape (rows, columns)"
   ]
  },
  {
   "cell_type": "code",
   "execution_count": 39,
   "metadata": {},
   "outputs": [
    {
     "name": "stdout",
     "output_type": "stream",
     "text": [
      "(4,)\n",
      "(4, 3)\n"
     ]
    }
   ],
   "source": [
    "print(a.shape)\n",
    "print(b.shape)"
   ]
  },
  {
   "cell_type": "code",
   "execution_count": 31,
   "metadata": {},
   "outputs": [
    {
     "name": "stdout",
     "output_type": "stream",
     "text": [
      "[['a' 'b' 'c' 't']\n",
      " ['d' 'e' 'f' 'y']\n",
      " ['g' 'h' 'i' 'u']]\n",
      "2\n",
      "(3, 4)\n"
     ]
    }
   ],
   "source": [
    "lst1 = ['a','b','c','t']\n",
    "lst2 = ['d','e','f','y']\n",
    "lst3 = ['g','h','i','u']\n",
    "\n",
    "arr = np.array([lst1,lst2,lst3])\n",
    "print(arr)\n",
    "print(arr.ndim)\n",
    "print(arr.shape)"
   ]
  },
  {
   "cell_type": "markdown",
   "metadata": {},
   "source": [
    "### Reshaping"
   ]
  },
  {
   "cell_type": "code",
   "execution_count": 7,
   "metadata": {},
   "outputs": [
    {
     "name": "stdout",
     "output_type": "stream",
     "text": [
      "[['a' 'b' 'c' 't']\n",
      " ['d' 'e' 'f' 'y']\n",
      " ['g' 'h' 'i' 'u']]\n",
      "(3, 4) \n",
      "\n",
      "[['a' 'b' 'c' 't' 'd' 'e']\n",
      " ['f' 'y' 'g' 'h' 'i' 'u']]\n",
      "(2, 6) \n",
      "\n",
      "[[['a' 'b' 'c']\n",
      "  ['t' 'd' 'e']]\n",
      "\n",
      " [['f' 'y' 'g']\n",
      "  ['h' 'i' 'u']]]\n",
      "(2, 2, 3)\n"
     ]
    }
   ],
   "source": [
    "# when reshaping the total should be same [ 3*4=12  2*6=12  2*2*3=12 ] ------> like so\n",
    "\n",
    "a = np.array([['a','b','c','t'],['d','e','f','y'],['g','h','i','u']])\n",
    "\n",
    "print(a)\n",
    "print(a.shape,'\\n')\n",
    "\n",
    "print(a.reshape(2,6))         # 2 rows 6 columns          \n",
    "print(a.reshape(2,6).shape,'\\n')\n",
    "\n",
    "print(a.reshape(2,2,3))\n",
    "print(a.reshape(2,2,3).shape)"
   ]
  },
  {
   "cell_type": "markdown",
   "metadata": {},
   "source": [
    "### Getting specific elements aka Indexing"
   ]
  },
  {
   "cell_type": "code",
   "execution_count": 8,
   "metadata": {},
   "outputs": [
    {
     "name": "stdout",
     "output_type": "stream",
     "text": [
      "[['a' 'b' 'c' 't']\n",
      " ['d' 'e' 'f' 'y']\n",
      " ['g' 'h' 'i' 'u']] \n",
      "\n",
      "[85 41 63 52 10]\n"
     ]
    }
   ],
   "source": [
    "ab = np.array([['a','b','c','t'],['d','e','f','y'],['g','h','i','u']])\n",
    "cd = np.array([85,41,63,52,10])\n",
    "\n",
    "print(ab,'\\n')\n",
    "print(cd)"
   ]
  },
  {
   "cell_type": "code",
   "execution_count": 5,
   "metadata": {},
   "outputs": [
    {
     "name": "stdout",
     "output_type": "stream",
     "text": [
      "63 \n",
      "\n",
      "u \n",
      "\n",
      "[['a' 'b']\n",
      " ['d' 'e']] \n",
      "\n",
      "[['e' 'f']]\n"
     ]
    }
   ],
   "source": [
    "print(cd[2],'\\n')\n",
    "print(ab[2,3],'\\n')            # [rows, columns]\n",
    "print(ab[:2,:2],'\\n')\n",
    "print(ab[1:2,1:3])"
   ]
  },
  {
   "cell_type": "markdown",
   "metadata": {},
   "source": [
    "### Change an element"
   ]
  },
  {
   "cell_type": "code",
   "execution_count": 161,
   "metadata": {},
   "outputs": [
    {
     "name": "stdout",
     "output_type": "stream",
     "text": [
      "[[ 1  2  3  4]\n",
      " [ 5  6  7  8]\n",
      " [ 9 10 11 12]]\n"
     ]
    }
   ],
   "source": [
    "ab = np.array([[1,2,3,4],[5,6,7,8],[9,10,11,12]])\n",
    "\n",
    "print(ab)"
   ]
  },
  {
   "cell_type": "code",
   "execution_count": 162,
   "metadata": {},
   "outputs": [
    {
     "name": "stdout",
     "output_type": "stream",
     "text": [
      "[[ 1  2 66  4]\n",
      " [ 5  6  7  8]\n",
      " [ 9 10 11 12]] \n",
      "\n",
      "[[ 1 80 66  4]\n",
      " [ 5 80  7  8]\n",
      " [ 9 80 11 12]] \n",
      "\n",
      "[[  1  80  66   4]\n",
      " [  5  80   7   8]\n",
      " [100 200 300 400]]\n"
     ]
    }
   ],
   "source": [
    "ab[0,2] = 66                     # replace specific value\n",
    "print(ab,'\\n')\n",
    "\n",
    "ab[:,1] = 80                     # replace all values\n",
    "print(ab,'\\n')\n",
    "\n",
    "ab[2,:] = 100,200,300,400        # replace multiple values\n",
    "print(ab)"
   ]
  },
  {
   "cell_type": "markdown",
   "metadata": {},
   "source": [
    "### Creating arrays"
   ]
  },
  {
   "cell_type": "code",
   "execution_count": 178,
   "metadata": {},
   "outputs": [
    {
     "name": "stdout",
     "output_type": "stream",
     "text": [
      "[0. 0. 0. 0.]\n"
     ]
    }
   ],
   "source": [
    "a = np.zeros((4))     # creates an array of 0s\n",
    "print(a)"
   ]
  },
  {
   "cell_type": "code",
   "execution_count": 9,
   "metadata": {},
   "outputs": [
    {
     "name": "stdout",
     "output_type": "stream",
     "text": [
      "[[1. 1.]\n",
      " [1. 1.]\n",
      " [1. 1.]] \n",
      "\n",
      "[[1 1]\n",
      " [1 1]\n",
      " [1 1]]\n"
     ]
    }
   ],
   "source": [
    "x = np.ones((3,2))                     # creates an array of 1s\n",
    "print(x,'\\n')                               # default value is set to float\n",
    "\n",
    "y = np.ones((3,2), dtype=int)          # changing to int\n",
    "print(y)"
   ]
  },
  {
   "cell_type": "code",
   "execution_count": 80,
   "metadata": {},
   "outputs": [
    {
     "data": {
      "text/plain": [
       "array([[83, 83, 83],\n",
       "       [83, 83, 83]])"
      ]
     },
     "execution_count": 80,
     "metadata": {},
     "output_type": "execute_result"
    }
   ],
   "source": [
    "# create an array of specific number. syntax --> (rows,columns)number\n",
    "\n",
    "np.full((2,3),83)"
   ]
  },
  {
   "cell_type": "code",
   "execution_count": 12,
   "metadata": {},
   "outputs": [
    {
     "data": {
      "text/plain": [
       "array([[0.878182  , 0.14637109],\n",
       "       [0.6033309 , 0.34653892]])"
      ]
     },
     "execution_count": 12,
     "metadata": {},
     "output_type": "execute_result"
    }
   ],
   "source": [
    "# create random array of decimals\n",
    "\n",
    "np.random.rand(2,2)"
   ]
  },
  {
   "cell_type": "code",
   "execution_count": 186,
   "metadata": {},
   "outputs": [
    {
     "data": {
      "text/plain": [
       "array([[2, 4],\n",
       "       [2, 2],\n",
       "       [2, 3]])"
      ]
     },
     "execution_count": 186,
     "metadata": {},
     "output_type": "execute_result"
    }
   ],
   "source": [
    "# Create an array of int. 1st parametr is the lowest value and 2nd parametr is the highest value.\n",
    "# size is rows and colmns\n",
    "\n",
    "np.random.randint(2,5, size=(3,2))"
   ]
  },
  {
   "cell_type": "code",
   "execution_count": 18,
   "metadata": {},
   "outputs": [
    {
     "name": "stdout",
     "output_type": "stream",
     "text": [
      "[22 28 14 26 23 23] \n",
      " [[13 29 14]\n",
      " [24 11 15]]\n"
     ]
    }
   ],
   "source": [
    "a = np.random.randint(10,30,6)                      # creates 1d array with random 6 elements from 10 to 30\n",
    "b = np.random.randint(10,30,6).reshape(2,3)         # Reshape the array (rows, columns)\n",
    "\n",
    "print(a,'\\n',b)"
   ]
  },
  {
   "cell_type": "code",
   "execution_count": 19,
   "metadata": {},
   "outputs": [
    {
     "name": "stdout",
     "output_type": "stream",
     "text": [
      "[0 1 2 3 4 5 6 7 8]\n",
      "[[ 1  3]\n",
      " [ 5  7]\n",
      " [ 9 11]\n",
      " [13 15]\n",
      " [17 19]]\n"
     ]
    }
   ],
   "source": [
    "ab = np.arange(0,9)                            # creates an array from 0 to 9.\n",
    "cd = np.arange(1,21, step=2).reshape(5,2)      # step skips an element of given number\n",
    "\n",
    "print(ab)\n",
    "print(cd)"
   ]
  },
  {
   "cell_type": "markdown",
   "metadata": {},
   "source": [
    "### Copying arrays"
   ]
  },
  {
   "cell_type": "code",
   "execution_count": 14,
   "metadata": {},
   "outputs": [
    {
     "name": "stdout",
     "output_type": "stream",
     "text": [
      "[1 2 3 4]\n",
      "[1 2 3 4] \n",
      "\n",
      "[  1 100   3   4]\n",
      "[1 2 3 4]\n"
     ]
    }
   ],
   "source": [
    "a = np.array([1,2,3,4,])\n",
    "print(a)\n",
    "\n",
    "b = a.copy()\n",
    "print(b,'\\n')\n",
    "\n",
    "b[1] = 100\n",
    "\n",
    "print(b)       \n",
    "print(a)"
   ]
  },
  {
   "cell_type": "markdown",
   "metadata": {},
   "source": [
    "### Maths"
   ]
  },
  {
   "cell_type": "code",
   "execution_count": 20,
   "metadata": {},
   "outputs": [
    {
     "name": "stdout",
     "output_type": "stream",
     "text": [
      "[20 34 45 93]\n",
      "[22 36 47 95]\n",
      "[18 32 43 91]\n",
      "[ 40  68  90 186]\n",
      "[10.  17.  22.5 46.5]\n",
      "[False  True  True  True]\n",
      "[34 45 93]\n"
     ]
    }
   ],
   "source": [
    "a = np.array([20,34,45,93])\n",
    "\n",
    "print(a)\n",
    "print(a + 2)                   # Add\n",
    "print(a - 2)                   # Subtract\n",
    "print(a * 2)                   # Multiply\n",
    "print(a / 2)                   # Divide\n",
    "print(a > 30)                  # Return boolean value\n",
    "print(a[a > 30])               # Returns value"
   ]
  },
  {
   "cell_type": "code",
   "execution_count": 46,
   "metadata": {},
   "outputs": [
    {
     "name": "stdout",
     "output_type": "stream",
     "text": [
      "[[4 4 4]\n",
      " [4 4 4]] \n",
      "\n",
      "[[3 3]\n",
      " [3 3]\n",
      " [3 3]] \n",
      "\n",
      "[[36 36]\n",
      " [36 36]]\n"
     ]
    }
   ],
   "source": [
    "a1 = np.full((2,3),4)\n",
    "b1 = np.full((3,2),3)\n",
    "\n",
    "print(a1,'\\n')\n",
    "print(b1,'\\n')\n",
    "print(np.matmul(a1,b1))   # Matrix Multiplication"
   ]
  },
  {
   "cell_type": "code",
   "execution_count": 63,
   "metadata": {},
   "outputs": [
    {
     "name": "stdout",
     "output_type": "stream",
     "text": [
      "[[ 2  3  8  5]\n",
      " [ 7 11  3  6]]\n",
      "2\n",
      "11\n",
      "45\n"
     ]
    }
   ],
   "source": [
    "ab = np.array([[2,3,8,5],[7,11,3,6]])\n",
    "\n",
    "print(ab)\n",
    "print(np.min(ab))     # minimum value\n",
    "print(np.max(ab))     # maximum value\n",
    "print(np.sum(ab))     # adds all the elements"
   ]
  },
  {
   "cell_type": "markdown",
   "metadata": {},
   "source": [
    "### Retrieve elements using loop"
   ]
  },
  {
   "cell_type": "code",
   "execution_count": 85,
   "metadata": {
    "scrolled": true
   },
   "outputs": [
    {
     "name": "stdout",
     "output_type": "stream",
     "text": [
      "[[4 4 4]\n",
      " [4 4 4]] \n",
      "\n",
      "4\n",
      "4\n",
      "4\n",
      "4\n",
      "4\n",
      "4\n"
     ]
    }
   ],
   "source": [
    "ar = np.full((2,3),4)\n",
    "\n",
    "print(ar,'\\n')\n",
    "\n",
    "for x in ar.flat:                        # returns in list\n",
    "    print(x)"
   ]
  },
  {
   "cell_type": "markdown",
   "metadata": {},
   "source": [
    "### Vertical and Horizontal Stacking"
   ]
  },
  {
   "cell_type": "code",
   "execution_count": 86,
   "metadata": {},
   "outputs": [
    {
     "name": "stdout",
     "output_type": "stream",
     "text": [
      "[[1 2 3 4]\n",
      " [5 6 7 8]\n",
      " [1 2 3 4]\n",
      " [5 6 7 8]] \n",
      "\n",
      "[1 2 3 4 5 6 7 8]\n"
     ]
    }
   ],
   "source": [
    "ar1 = ([1,2,3,4])\n",
    "ar2 = ([5,6,7,8])\n",
    "\n",
    "print(np.vstack((ar1,ar2,ar1,ar2)),'\\n')        # vertical stacking\n",
    "print(np.hstack((ar1,ar2)))                     # horizontal stacking"
   ]
  },
  {
   "cell_type": "markdown",
   "metadata": {},
   "source": [
    "### Loading data from file"
   ]
  },
  {
   "cell_type": "code",
   "execution_count": 94,
   "metadata": {},
   "outputs": [
    {
     "name": "stdout",
     "output_type": "stream",
     "text": [
      "[[  1  13  21  11 196  75   4   3  34   6   7   8   0   1   2   3   4   5]\n",
      " [  3  42  12  33 766  75   4  55   6   4   3   4   5   6   7   0  11  12]\n",
      " [  1  22  33  11 999  11   2   1  78   0   1   2   9   8   7   1  76  88]]\n"
     ]
    }
   ],
   "source": [
    "x = np.genfromtxt('data.txt', delimiter=',', dtype=int)   # delimiter is what separetes the data in the file\n",
    "print(x)"
   ]
  }
 ],
 "metadata": {
  "kernelspec": {
   "display_name": "Python 3",
   "language": "python",
   "name": "python3"
  },
  "language_info": {
   "codemirror_mode": {
    "name": "ipython",
    "version": 3
   },
   "file_extension": ".py",
   "mimetype": "text/x-python",
   "name": "python",
   "nbconvert_exporter": "python",
   "pygments_lexer": "ipython3",
   "version": "3.7.6"
  }
 },
 "nbformat": 4,
 "nbformat_minor": 4
}
