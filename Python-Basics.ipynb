{
 "cells": [
  {
   "cell_type": "markdown",
   "metadata": {},
   "source": [
    "## Basic commands"
   ]
  },
  {
   "cell_type": "code",
   "execution_count": 1,
   "metadata": {},
   "outputs": [
    {
     "data": {
      "text/plain": [
       "5"
      ]
     },
     "execution_count": 1,
     "metadata": {},
     "output_type": "execute_result"
    }
   ],
   "source": [
    "2+3"
   ]
  },
  {
   "cell_type": "code",
   "execution_count": 41,
   "metadata": {},
   "outputs": [
    {
     "name": "stdout",
     "output_type": "stream",
     "text": [
      "abhishek\n"
     ]
    }
   ],
   "source": [
    "a = 'abhishek'\n",
    "print(a)"
   ]
  },
  {
   "cell_type": "code",
   "execution_count": 29,
   "metadata": {},
   "outputs": [
    {
     "name": "stdout",
     "output_type": "stream",
     "text": [
      "13\n",
      "7\n",
      "30\n",
      "3.3333333333333335\n",
      "1\n",
      "abhiabhiabhi\n",
      "91\n",
      "1000\n"
     ]
    }
   ],
   "source": [
    "a = 10\n",
    "b = 3\n",
    "c = 'abhi'\n",
    "print(a+b)           # addition\n",
    "print(a-b)           # subtraction \n",
    "print(a*b)           # multiplication\n",
    "print(a/b)           # division\n",
    "print(a%b)           # modulus - gets remainder after division\n",
    "print(b*c)           # will print 'abhi' 3 times\n",
    "print((a+b)*(a-b))   \n",
    "print(a**b)          # 10 to the power of 3 (10*10*10)"
   ]
  },
  {
   "cell_type": "code",
   "execution_count": 30,
   "metadata": {},
   "outputs": [
    {
     "name": "stdout",
     "output_type": "stream",
     "text": [
      "<class 'str'>\n",
      "<class 'int'>\n",
      "<class 'float'>\n",
      "<class 'bool'>\n"
     ]
    }
   ],
   "source": [
    "a = 'abhi'\n",
    "b = 45\n",
    "c = 12.5\n",
    "d = True\n",
    "print(type(a))   # prints data type\n",
    "print(type(b))\n",
    "print(type(c))\n",
    "print(type(d))"
   ]
  },
  {
   "cell_type": "markdown",
   "metadata": {},
   "source": [
    "## Numbers"
   ]
  },
  {
   "cell_type": "code",
   "execution_count": 109,
   "metadata": {},
   "outputs": [
    {
     "name": "stdout",
     "output_type": "stream",
     "text": [
      "404\n"
     ]
    }
   ],
   "source": [
    "a_to_b = 157\n",
    "b_to_c = 247\n",
    "\n",
    "total_distance = a_to_b + b_to_c\n",
    "print(total_distance)"
   ]
  },
  {
   "cell_type": "code",
   "execution_count": 111,
   "metadata": {},
   "outputs": [
    {
     "data": {
      "text/plain": [
       "6.2153846153846155"
      ]
     },
     "execution_count": 111,
     "metadata": {},
     "output_type": "execute_result"
    }
   ],
   "source": [
    "mph = 65\n",
    "time = total_distance/mph\n",
    "time"
   ]
  },
  {
   "cell_type": "code",
   "execution_count": 112,
   "metadata": {},
   "outputs": [
    {
     "name": "stdout",
     "output_type": "stream",
     "text": [
      "6.22\n",
      "6.2154\n"
     ]
    }
   ],
   "source": [
    "print(round(time,2))    # prints given digits after decimal point.\n",
    "print(round(time,4))    # 2nd paramteter is how many digits you want after the decimal point"
   ]
  },
  {
   "cell_type": "code",
   "execution_count": 39,
   "metadata": {},
   "outputs": [
    {
     "data": {
      "text/plain": [
       "16"
      ]
     },
     "execution_count": 39,
     "metadata": {},
     "output_type": "execute_result"
    }
   ],
   "source": [
    "10 + 2 * 3    # BODMAS rule"
   ]
  },
  {
   "cell_type": "code",
   "execution_count": 38,
   "metadata": {},
   "outputs": [
    {
     "data": {
      "text/plain": [
       "36"
      ]
     },
     "execution_count": 38,
     "metadata": {},
     "output_type": "execute_result"
    }
   ],
   "source": [
    "(10 + 2) * 3 "
   ]
  },
  {
   "cell_type": "markdown",
   "metadata": {},
   "source": [
    "## Strings"
   ]
  },
  {
   "cell_type": "code",
   "execution_count": 117,
   "metadata": {},
   "outputs": [
    {
     "data": {
      "text/plain": [
       "'Metal Body'"
      ]
     },
     "execution_count": 117,
     "metadata": {},
     "output_type": "execute_result"
    }
   ],
   "source": [
    "a = 'Metal Body'\n",
    "a"
   ]
  },
  {
   "cell_type": "code",
   "execution_count": 118,
   "metadata": {},
   "outputs": [
    {
     "name": "stdout",
     "output_type": "stream",
     "text": [
      "e\n",
      "l\n"
     ]
    }
   ],
   "source": [
    "print(a[1])\n",
    "print(a[-6])\n",
    "\n",
    "# prints the 2nd letter in the string. Indexing always starts with 0.\n",
    "#      M e t a l   B o d y      M   e  t  a  l     B  o  d  y\n",
    "#      0 1 2 3 4 5 6 7 8 9     -10 -9 -8 -7 -6 -5 -4 -3 -2 -1"
   ]
  },
  {
   "cell_type": "code",
   "execution_count": 119,
   "metadata": {},
   "outputs": [
    {
     "name": "stdout",
     "output_type": "stream",
     "text": [
      "Meta\n"
     ]
    }
   ],
   "source": [
    "print(a[0:4])  # 0th is included, 4th is excluded"
   ]
  },
  {
   "cell_type": "code",
   "execution_count": 120,
   "metadata": {},
   "outputs": [
    {
     "name": "stdout",
     "output_type": "stream",
     "text": [
      "l Body\n",
      "Meta\n"
     ]
    }
   ],
   "source": [
    "print(a[4:])   # prints everything after 5th index\n",
    "print(a[:4])   # prints everything till 4th index"
   ]
  },
  {
   "cell_type": "code",
   "execution_count": 128,
   "metadata": {},
   "outputs": [
    {
     "name": "stdout",
     "output_type": "stream",
     "text": [
      "I love 'football'\n",
      "foot + ball = \"football\"\n",
      "\n",
      "\n",
      "I love Messi's team\n",
      "this\\that\n"
     ]
    }
   ],
   "source": [
    "print(\"I love 'football'\")\n",
    "print('foot + ball = \"football\"')\n",
    "print('\\n')                                              # \\n for new line\n",
    "print('I love Messi\\'s team')                            # use backslash(\\) to include single quote (')\n",
    "print('this\\\\that')                                      # use \\\\ to include \\"
   ]
  },
  {
   "cell_type": "code",
   "execution_count": 129,
   "metadata": {},
   "outputs": [
    {
     "name": "stdout",
     "output_type": "stream",
     "text": [
      "Address: 21 Neon Street,\n",
      "\t Mumbai,\n",
      "\t India\n",
      "\n",
      "Address: 21 Neon Street,\n",
      "         Mumbai,\n",
      "         India\n"
     ]
    }
   ],
   "source": [
    "print('Address: 21 Neon Street,\\n\\t Mumbai,\\n\\t India\\n')   # \\t for tab or indent\n",
    "\n",
    "# OR use triple quote\n",
    "\n",
    "print('''Address: 21 Neon Street,\n",
    "         Mumbai,\n",
    "         India''')"
   ]
  },
  {
   "cell_type": "code",
   "execution_count": 79,
   "metadata": {},
   "outputs": [
    {
     "name": "stdout",
     "output_type": "stream",
     "text": [
      "My name is abhishek\n",
      "My name is abhishek and i love football\n",
      "My name is abhishek and i love football\n",
      "abhishekfootball\n",
      "abhishek loves football\n"
     ]
    }
   ],
   "source": [
    "name = 'abhishek'\n",
    "game = 'football'\n",
    "\n",
    "print('My name is '+ name)\n",
    "print('My name is {} and i love {}'.format(name,game))\n",
    "print('My name is {a} and i love {b}'.format(a=name,b=game))\n",
    "print(name + game)\n",
    "print(name + ' loves ' + game)"
   ]
  },
  {
   "cell_type": "code",
   "execution_count": 131,
   "metadata": {},
   "outputs": [
    {
     "name": "stdout",
     "output_type": "stream",
     "text": [
      "My name is abhi.\n",
      "Iam 100 years old.\n"
     ]
    }
   ],
   "source": [
    "name = 'abhi'\n",
    "age = 100\n",
    "print('My name is '+ name +'.\\nIam '+ str(age) +' years old.')   # to print num we need to covert it into string"
   ]
  },
  {
   "cell_type": "code",
   "execution_count": 90,
   "metadata": {},
   "outputs": [
    {
     "data": {
      "text/plain": [
       "8"
      ]
     },
     "execution_count": 90,
     "metadata": {},
     "output_type": "execute_result"
    }
   ],
   "source": [
    "len('abhishek')   # prints the number of items"
   ]
  },
  {
   "cell_type": "markdown",
   "metadata": {},
   "source": [
    "## Lists\n",
    "List is a collection of items that can be ordered, unordered and changeable. Allows duplicate items and are defined using square brackets [ ]"
   ]
  },
  {
   "cell_type": "code",
   "execution_count": 132,
   "metadata": {},
   "outputs": [
    {
     "name": "stdout",
     "output_type": "stream",
     "text": [
      "['Google', 'Amazon', 'Apple', 'Facebook']\n",
      "<class 'list'>\n"
     ]
    }
   ],
   "source": [
    "company = ['Google','Amazon','Apple','Facebook']\n",
    "print(company)\n",
    "print(type(company))"
   ]
  },
  {
   "cell_type": "code",
   "execution_count": 133,
   "metadata": {},
   "outputs": [
    {
     "data": {
      "text/plain": [
       "'Apple'"
      ]
     },
     "execution_count": 133,
     "metadata": {},
     "output_type": "execute_result"
    }
   ],
   "source": [
    "company[2]   # indexing"
   ]
  },
  {
   "cell_type": "code",
   "execution_count": 134,
   "metadata": {},
   "outputs": [
    {
     "data": {
      "text/plain": [
       "['Google', 'Amazon', 'Apple', 'Instagram']"
      ]
     },
     "execution_count": 134,
     "metadata": {},
     "output_type": "execute_result"
    }
   ],
   "source": [
    "company[3] = 'Instagram'       # change items in the list\n",
    "company"
   ]
  },
  {
   "cell_type": "code",
   "execution_count": 135,
   "metadata": {},
   "outputs": [
    {
     "data": {
      "text/plain": [
       "['Google', 'Amazon', 'Apple', 'Instagram', 'Facebook']"
      ]
     },
     "execution_count": 135,
     "metadata": {},
     "output_type": "execute_result"
    }
   ],
   "source": [
    "company.append('Facebook')     # append adds item at the end of the list\n",
    "company"
   ]
  },
  {
   "cell_type": "code",
   "execution_count": 136,
   "metadata": {},
   "outputs": [
    {
     "data": {
      "text/plain": [
       "['Google', 'Amazon', 'Microsoft', 'Apple', 'Instagram', 'Facebook']"
      ]
     },
     "execution_count": 136,
     "metadata": {},
     "output_type": "execute_result"
    }
   ],
   "source": [
    "company.insert(2,'Microsoft')    # adds item at given index\n",
    "company"
   ]
  },
  {
   "cell_type": "code",
   "execution_count": 137,
   "metadata": {},
   "outputs": [
    {
     "data": {
      "text/plain": [
       "['Google',\n",
       " 'Amazon',\n",
       " 'Microsoft',\n",
       " 'Apple',\n",
       " 'Instagram',\n",
       " 'Facebook',\n",
       " 'Samsung',\n",
       " 'Intel']"
      ]
     },
     "execution_count": 137,
     "metadata": {},
     "output_type": "execute_result"
    }
   ],
   "source": [
    "company.extend(['Samsung','Intel'])   # add multiple items\n",
    "company"
   ]
  },
  {
   "cell_type": "code",
   "execution_count": 138,
   "metadata": {},
   "outputs": [
    {
     "data": {
      "text/plain": [
       "['Google', 'Amazon', 'Microsoft', 'Apple', 'Instagram', 'Facebook', 'Samsung']"
      ]
     },
     "execution_count": 138,
     "metadata": {},
     "output_type": "execute_result"
    }
   ],
   "source": [
    "company.pop()  # removes last item\n",
    "company"
   ]
  },
  {
   "cell_type": "code",
   "execution_count": 139,
   "metadata": {},
   "outputs": [
    {
     "data": {
      "text/plain": [
       "['Google', 'Amazon', 'Microsoft', 'Apple', 'Facebook', 'Samsung']"
      ]
     },
     "execution_count": 139,
     "metadata": {},
     "output_type": "execute_result"
    }
   ],
   "source": [
    "company.pop(4)   # remove item by giving its index position\n",
    "company"
   ]
  },
  {
   "cell_type": "code",
   "execution_count": 140,
   "metadata": {},
   "outputs": [
    {
     "name": "stdout",
     "output_type": "stream",
     "text": [
      "2\n",
      "8\n",
      "0\n",
      "10\n",
      "78\n",
      "293\n",
      "[21, 34, 45, 21, 78, 10, 11, 73, 21, 34, 45, 21, 78, 10, 11, 73]\n"
     ]
    }
   ],
   "source": [
    "numb = [21,34,45,21,78,10,11,73]\n",
    "\n",
    "print(numb.count(21))              # print number of occurrences of value\n",
    "print(len(numb))                   # print number of items in the list\n",
    "print(numb.index(21))              # print index value of given item\n",
    "print(min(numb))                   # print lowest value\n",
    "print(max(numb))                   # print highest value\n",
    "print(sum(numb))                   # adds all the numbers\n",
    "print(numb*2)                      # print the list 2 times"
   ]
  },
  {
   "cell_type": "code",
   "execution_count": 141,
   "metadata": {},
   "outputs": [
    {
     "data": {
      "text/plain": [
       "['apple', 'mango', 'banana', 'watermelon', 'strawberry']"
      ]
     },
     "execution_count": 141,
     "metadata": {},
     "output_type": "execute_result"
    }
   ],
   "source": [
    "a = ['apple','mango','banana']\n",
    "b = ['watermelon','strawberry']\n",
    "c = a + b\n",
    "c"
   ]
  },
  {
   "cell_type": "code",
   "execution_count": 142,
   "metadata": {},
   "outputs": [
    {
     "name": "stdout",
     "output_type": "stream",
     "text": [
      "False\n",
      "True\n"
     ]
    }
   ],
   "source": [
    "print('pencil' in c)    # check if a given item is in the list\n",
    "print('mango' in c)"
   ]
  },
  {
   "cell_type": "markdown",
   "metadata": {},
   "source": [
    "## Sets\n",
    "Set is a collection of elements and no duplicate elements are present. They are defined using curly brackets { }"
   ]
  },
  {
   "cell_type": "code",
   "execution_count": 144,
   "metadata": {},
   "outputs": [
    {
     "name": "stdout",
     "output_type": "stream",
     "text": [
      "{'Hulk', 'Ironman', 'Spiderman', 'Captain America'}\n",
      "<class 'set'>\n"
     ]
    }
   ],
   "source": [
    "avengers = {'Ironman','Hulk','Spiderman','Hulk','Captain America'}\n",
    "print(avengers)                 # Hulk gets printed only once.\n",
    "print(type(avengers))"
   ]
  },
  {
   "cell_type": "code",
   "execution_count": 145,
   "metadata": {},
   "outputs": [
    {
     "data": {
      "text/plain": [
       "{'Captain America', 'Hulk', 'Ironman', 'Spiderman', 'Thor'}"
      ]
     },
     "execution_count": 145,
     "metadata": {},
     "output_type": "execute_result"
    }
   ],
   "source": [
    "avengers.add('Thor')       # add element\n",
    "avengers"
   ]
  },
  {
   "cell_type": "code",
   "execution_count": 146,
   "metadata": {},
   "outputs": [
    {
     "data": {
      "text/plain": [
       "{1, 2, 3, 4, 5, 6, 7}"
      ]
     },
     "execution_count": 146,
     "metadata": {},
     "output_type": "execute_result"
    }
   ],
   "source": [
    "set1 = {1,2,3,4,5}\n",
    "set2 = {1,2,3,4,5,6,7}\n",
    "set2.difference(set1)      #common elements will be removed but wont show unless you update the difference\n",
    "set2"
   ]
  },
  {
   "cell_type": "code",
   "execution_count": 147,
   "metadata": {},
   "outputs": [
    {
     "data": {
      "text/plain": [
       "{6, 7}"
      ]
     },
     "execution_count": 147,
     "metadata": {},
     "output_type": "execute_result"
    }
   ],
   "source": [
    "set2.difference_update(set1)     #Updates the difference\n",
    "set2"
   ]
  },
  {
   "cell_type": "code",
   "execution_count": 148,
   "metadata": {},
   "outputs": [
    {
     "data": {
      "text/plain": [
       "{1, 2, 3, 4, 'abhi'}"
      ]
     },
     "execution_count": 148,
     "metadata": {},
     "output_type": "execute_result"
    }
   ],
   "source": [
    "set_a = {'abhi',1,2,3,4}\n",
    "set_b = {'abhi',1,2,3,4,5}\n",
    "set_b.intersection(set_a)           #common elements will be printed\n",
    "set_b.intersection_update(set_a)\n",
    "set_b"
   ]
  },
  {
   "cell_type": "markdown",
   "metadata": {},
   "source": [
    "## Dictionaries\n",
    "Dictionary is a collection of data that has a key and a value. They are defined using curly brackets { }"
   ]
  },
  {
   "cell_type": "code",
   "execution_count": 150,
   "metadata": {},
   "outputs": [
    {
     "name": "stdout",
     "output_type": "stream",
     "text": [
      "{'Messi': 'Barcelona', 'Ronaldo': 'Juventus', 'Neymar': 'PSG', 'Hazard': 'Chelsea', 'Aguero': 'Manchester City'} \n",
      "\n",
      "<class 'dict'>\n"
     ]
    }
   ],
   "source": [
    "players = {'Messi':'Barcelona',           # 'Messi' is key and its vale is 'Barcelona'\n",
    "           'Ronaldo':'Juventus',\n",
    "           'Neymar':'PSG',\n",
    "           'Hazard':'Chelsea',\n",
    "           'Aguero':'Manchester City'}\n",
    "print(players,'\\n')\n",
    "print(type(players))"
   ]
  },
  {
   "cell_type": "code",
   "execution_count": 151,
   "metadata": {},
   "outputs": [
    {
     "data": {
      "text/plain": [
       "'Juventus'"
      ]
     },
     "execution_count": 151,
     "metadata": {},
     "output_type": "execute_result"
    }
   ],
   "source": [
    "players['Ronaldo']  # retrieve values using key"
   ]
  },
  {
   "cell_type": "code",
   "execution_count": 152,
   "metadata": {},
   "outputs": [
    {
     "data": {
      "text/plain": [
       "{'Messi': 'Barcelona',\n",
       " 'Ronaldo': 'Juventus',\n",
       " 'Neymar': 'PSG',\n",
       " 'Hazard': 'Chelsea',\n",
       " 'Aguero': 'Manchester City',\n",
       " 'Salah': 'Liverpool'}"
      ]
     },
     "execution_count": 152,
     "metadata": {},
     "output_type": "execute_result"
    }
   ],
   "source": [
    "players['Salah'] = 'Liverpool'     # add item\n",
    "players"
   ]
  },
  {
   "cell_type": "code",
   "execution_count": 153,
   "metadata": {},
   "outputs": [
    {
     "data": {
      "text/plain": [
       "{'Messi': 'Barcelona',\n",
       " 'Ronaldo': 'Juventus',\n",
       " 'Hazard': 'Chelsea',\n",
       " 'Aguero': 'Manchester City',\n",
       " 'Salah': 'Liverpool'}"
      ]
     },
     "execution_count": 153,
     "metadata": {},
     "output_type": "execute_result"
    }
   ],
   "source": [
    "del players['Neymar']               # delete\n",
    "players"
   ]
  },
  {
   "cell_type": "code",
   "execution_count": 154,
   "metadata": {},
   "outputs": [
    {
     "data": {
      "text/plain": [
       "{'Messi': 'Barcelona',\n",
       " 'Hazard': 'Chelsea',\n",
       " 'Aguero': 'Manchester City',\n",
       " 'Salah': 'Liverpool'}"
      ]
     },
     "execution_count": 154,
     "metadata": {},
     "output_type": "execute_result"
    }
   ],
   "source": [
    "players.pop('Ronaldo')              # delete\n",
    "players"
   ]
  },
  {
   "cell_type": "code",
   "execution_count": 155,
   "metadata": {},
   "outputs": [
    {
     "name": "stdout",
     "output_type": "stream",
     "text": [
      "Messi\n",
      "Hazard\n",
      "Aguero\n",
      "Salah\n",
      "\n",
      "\n",
      "Messi\n",
      "Hazard\n",
      "Aguero\n",
      "Salah\n"
     ]
    }
   ],
   "source": [
    "for x in players.keys():           # print keys\n",
    "    print(x)\n",
    "\n",
    "print('\\n')\n",
    "\n",
    "for x in players:\n",
    "    print(x)"
   ]
  },
  {
   "cell_type": "code",
   "execution_count": 156,
   "metadata": {},
   "outputs": [
    {
     "name": "stdout",
     "output_type": "stream",
     "text": [
      "Barcelona\n",
      "Chelsea\n",
      "Manchester City\n",
      "Liverpool\n"
     ]
    }
   ],
   "source": [
    "for x in players.values():         # print values\n",
    "    print(x)"
   ]
  },
  {
   "cell_type": "code",
   "execution_count": 157,
   "metadata": {},
   "outputs": [
    {
     "name": "stdout",
     "output_type": "stream",
     "text": [
      "('Messi', 'Barcelona')\n",
      "('Hazard', 'Chelsea')\n",
      "('Aguero', 'Manchester City')\n",
      "('Salah', 'Liverpool')\n"
     ]
    }
   ],
   "source": [
    "for x in players.items():          # print both\n",
    "    print(x)"
   ]
  },
  {
   "cell_type": "code",
   "execution_count": 158,
   "metadata": {},
   "outputs": [
    {
     "data": {
      "text/plain": [
       "True"
      ]
     },
     "execution_count": 158,
     "metadata": {},
     "output_type": "execute_result"
    }
   ],
   "source": [
    "'Salah' in players               # check if a given key is in the dict"
   ]
  },
  {
   "cell_type": "code",
   "execution_count": 159,
   "metadata": {},
   "outputs": [
    {
     "data": {
      "text/plain": [
       "False"
      ]
     },
     "execution_count": 159,
     "metadata": {},
     "output_type": "execute_result"
    }
   ],
   "source": [
    "'Suarez' in players"
   ]
  },
  {
   "cell_type": "code",
   "execution_count": 160,
   "metadata": {},
   "outputs": [
    {
     "data": {
      "text/plain": [
       "{'Messi': 'Barcelona',\n",
       " 'Hazard': 'Real Madrid',\n",
       " 'Aguero': 'Manchester City',\n",
       " 'Salah': 'Liverpool'}"
      ]
     },
     "execution_count": 160,
     "metadata": {},
     "output_type": "execute_result"
    }
   ],
   "source": [
    "players['Hazard'] = 'Real Madrid'    # assign new value to a key\n",
    "players"
   ]
  },
  {
   "cell_type": "code",
   "execution_count": 161,
   "metadata": {},
   "outputs": [
    {
     "data": {
      "text/plain": [
       "{}"
      ]
     },
     "execution_count": 161,
     "metadata": {},
     "output_type": "execute_result"
    }
   ],
   "source": [
    "players.clear()       # delete dict\n",
    "players"
   ]
  },
  {
   "cell_type": "markdown",
   "metadata": {},
   "source": [
    "### Nested Dictionary"
   ]
  },
  {
   "cell_type": "code",
   "execution_count": 162,
   "metadata": {},
   "outputs": [
    {
     "data": {
      "text/plain": [
       "{'Football': {'Messi': 32, 'Ronaldo': 35},\n",
       " 'Cricket': {'Dhoni': 38},\n",
       " 'Basketball': {'LeBron': 35}}"
      ]
     },
     "execution_count": 162,
     "metadata": {},
     "output_type": "execute_result"
    }
   ],
   "source": [
    "dict1 = {'Messi':32,'Ronaldo':35}\n",
    "dict2 = {'Dhoni':38}\n",
    "dict3 = {'LeBron':35}\n",
    "\n",
    "sport = {'Football':dict1,'Cricket':dict2,'Basketball':dict3}\n",
    "\n",
    "sport"
   ]
  },
  {
   "cell_type": "code",
   "execution_count": 163,
   "metadata": {},
   "outputs": [
    {
     "name": "stdout",
     "output_type": "stream",
     "text": [
      "{'Messi': 32, 'Ronaldo': 35} \n",
      "\n",
      "32\n"
     ]
    }
   ],
   "source": [
    "print(sport['Football'],'\\n')                # retrieving values\n",
    "\n",
    "print(sport['Football']['Messi'])"
   ]
  },
  {
   "cell_type": "markdown",
   "metadata": {},
   "source": [
    "## Tuples\n",
    "In tuples a single item cannot be changed, you need to change the whole tuple. They are defined using round brackets ( )"
   ]
  },
  {
   "cell_type": "code",
   "execution_count": 164,
   "metadata": {},
   "outputs": [
    {
     "name": "stdout",
     "output_type": "stream",
     "text": [
      "('Messi', 'Suarez', 'Neymar')\n",
      "<class 'tuple'>\n"
     ]
    }
   ],
   "source": [
    "name = ('Messi','Suarez','Neymar')\n",
    "print(name)\n",
    "print(type(name))"
   ]
  },
  {
   "cell_type": "code",
   "execution_count": 165,
   "metadata": {},
   "outputs": [
    {
     "data": {
      "text/plain": [
       "'Suarez'"
      ]
     },
     "execution_count": 165,
     "metadata": {},
     "output_type": "execute_result"
    }
   ],
   "source": [
    "name[1]                    # indexing"
   ]
  },
  {
   "cell_type": "code",
   "execution_count": 166,
   "metadata": {},
   "outputs": [
    {
     "data": {
      "text/plain": [
       "2"
      ]
     },
     "execution_count": 166,
     "metadata": {},
     "output_type": "execute_result"
    }
   ],
   "source": [
    "name.index('Neymar')       # indexing"
   ]
  },
  {
   "cell_type": "code",
   "execution_count": 167,
   "metadata": {},
   "outputs": [
    {
     "data": {
      "text/plain": [
       "('Lebron James', 'Stephen Curry', 'Michael Jordan', 'Stephen Curry')"
      ]
     },
     "execution_count": 167,
     "metadata": {},
     "output_type": "execute_result"
    }
   ],
   "source": [
    "name = ('Lebron James','Stephen Curry','Michael Jordan','Stephen Curry')     # replace tuple with new values\n",
    "name"
   ]
  },
  {
   "cell_type": "code",
   "execution_count": 168,
   "metadata": {},
   "outputs": [
    {
     "data": {
      "text/plain": [
       "2"
      ]
     },
     "execution_count": 168,
     "metadata": {},
     "output_type": "execute_result"
    }
   ],
   "source": [
    "name.count('Stephen Curry')          # prints number of occurrences of value"
   ]
  },
  {
   "cell_type": "markdown",
   "metadata": {},
   "source": [
    "## Funtions\n",
    "They are a block of code that performs given task. Funtions are defined using ' def '"
   ]
  },
  {
   "cell_type": "code",
   "execution_count": 169,
   "metadata": {},
   "outputs": [
    {
     "name": "stdout",
     "output_type": "stream",
     "text": [
      "My name is abhishek and iam 100 year's old\n"
     ]
    }
   ],
   "source": [
    "def whoami():\n",
    "    name = 'abhishek'\n",
    "    age = 100\n",
    "    print('My name is '+name+ ' and iam '+str(age)+ ' year\\'s old')\n",
    "\n",
    "whoami()"
   ]
  },
  {
   "cell_type": "code",
   "execution_count": 170,
   "metadata": {},
   "outputs": [
    {
     "name": "stdout",
     "output_type": "stream",
     "text": [
      "150\n"
     ]
    }
   ],
   "source": [
    "def add(num):                             # single parameter\n",
    "    print(num + 100)\n",
    "\n",
    "add(50)"
   ]
  },
  {
   "cell_type": "code",
   "execution_count": 171,
   "metadata": {},
   "outputs": [
    {
     "name": "stdout",
     "output_type": "stream",
     "text": [
      "30\n"
     ]
    }
   ],
   "source": [
    "def add(x,y):                             # multiple parameters\n",
    "    print(x + y)\n",
    "    \n",
    "add(20,10)"
   ]
  },
  {
   "cell_type": "code",
   "execution_count": 172,
   "metadata": {},
   "outputs": [
    {
     "name": "stdout",
     "output_type": "stream",
     "text": [
      "20\n",
      "None\n",
      "15\n",
      "None\n"
     ]
    }
   ],
   "source": [
    "def add(a,b=5):                          # assign default value\n",
    "    print(a + b)\n",
    "\n",
    "print(add(10,10))\n",
    "print(add(10))                           # if second parameter is not given, the default value will take its place"
   ]
  },
  {
   "cell_type": "code",
   "execution_count": 173,
   "metadata": {},
   "outputs": [
    {
     "name": "stdout",
     "output_type": "stream",
     "text": [
      "My name is abhishek\n",
      "\n",
      "\n",
      "Iam awesome\n"
     ]
    }
   ],
   "source": [
    "def nl():                                 # creating a funtion for new line\n",
    "    print('\\n')\n",
    "\n",
    "print('My name is abhishek')\n",
    "nl()\n",
    "print('Iam awesome')"
   ]
  },
  {
   "cell_type": "markdown",
   "metadata": {},
   "source": [
    "## Boolean and Logical Operators"
   ]
  },
  {
   "cell_type": "code",
   "execution_count": 179,
   "metadata": {},
   "outputs": [
    {
     "name": "stdout",
     "output_type": "stream",
     "text": [
      "True True False False True\n",
      "\n",
      "\n",
      "<class 'str'>\n",
      "<class 'bool'> <class 'bool'>\n"
     ]
    }
   ],
   "source": [
    "bool_a = 'True'\n",
    "\n",
    "bool1 = True\n",
    "bool2 = 3+3 == 6\n",
    "bool3 = False\n",
    "bool4 = 3+3 == 9\n",
    "bool5 = 3+3 != 9                   # != means not equal to\n",
    "\n",
    "print(bool1,bool2,bool3,bool4,bool5)\n",
    "nl()\n",
    "print(type(bool_a))                 # here bool_a is declared as a string cause of quotes.\n",
    "print(type(bool1), type(bool2))"
   ]
  },
  {
   "cell_type": "markdown",
   "metadata": {},
   "source": [
    "#### Logical Operators  (less than, greater than)"
   ]
  },
  {
   "cell_type": "code",
   "execution_count": 180,
   "metadata": {},
   "outputs": [
    {
     "name": "stdout",
     "output_type": "stream",
     "text": [
      "False\n",
      "True\n",
      "True\n",
      "False\n"
     ]
    }
   ],
   "source": [
    "print(4 < 2)           # logical operators\n",
    "print(4 > 2)\n",
    "print(4 >= 2)\n",
    "print(4 <= 2)"
   ]
  },
  {
   "cell_type": "code",
   "execution_count": 181,
   "metadata": {},
   "outputs": [
    {
     "name": "stdout",
     "output_type": "stream",
     "text": [
      "True\n",
      "False\n",
      "True\n",
      "True\n",
      "\n",
      "\n",
      "False\n"
     ]
    }
   ],
   "source": [
    "print(True and True)\n",
    "print(True and False)     # In AND one value needs to be false for FALSE\n",
    "print(True or True)\n",
    "print(True or False)      # In OR both values needs to be false for FALSE\n",
    "nl()\n",
    "print(False or False)"
   ]
  },
  {
   "cell_type": "code",
   "execution_count": 182,
   "metadata": {},
   "outputs": [
    {
     "name": "stdout",
     "output_type": "stream",
     "text": [
      "False\n",
      "True\n"
     ]
    }
   ],
   "source": [
    "print(not True)\n",
    "print(not False)"
   ]
  },
  {
   "cell_type": "markdown",
   "metadata": {},
   "source": [
    "## Conditional Statements (if, else, elif)"
   ]
  },
  {
   "cell_type": "code",
   "execution_count": 183,
   "metadata": {},
   "outputs": [
    {
     "name": "stdout",
     "output_type": "stream",
     "text": [
      "You get a drink\n",
      "You get a drink\n",
      "No drink for you\n"
     ]
    }
   ],
   "source": [
    "# Here i have taken an example of a Bar which has 2 condition (Money, age). Money required is 5 and the age limit is 21.\n",
    "# First eg is just using money(mny) as a condition.\n",
    "\n",
    "def drink(mny):\n",
    "    if mny >= 5:\n",
    "        print('You get a drink')\n",
    "    else:\n",
    "        print(\"No drink for you\")\n",
    "drink(5)\n",
    "drink(7)\n",
    "drink(3)"
   ]
  },
  {
   "cell_type": "code",
   "execution_count": 184,
   "metadata": {},
   "outputs": [
    {
     "name": "stdout",
     "output_type": "stream",
     "text": [
      "You have money but are underaged\n",
      "You need more money\n",
      "You get a drink\n",
      "Get Out\n"
     ]
    }
   ],
   "source": [
    "# Here both conditions needs to be True to get a drink so we use AND.\n",
    "# elif is used for multiple conditions.\n",
    "\n",
    "def bar(age,mny):\n",
    "    \n",
    "    if mny>=5 and age>=21:\n",
    "        print('You get a drink')\n",
    "    \n",
    "    elif mny<5 and age>=21:\n",
    "        print('You need more money')\n",
    "    \n",
    "    elif mny>=5 and age<21:\n",
    "        print('You have money but are underaged')\n",
    "    \n",
    "    else:\n",
    "        print('Get Out')\n",
    "\n",
    "bar(12,5)\n",
    "bar(22,3)\n",
    "bar(21,7)\n",
    "bar(10,3)"
   ]
  },
  {
   "cell_type": "markdown",
   "metadata": {},
   "source": [
    "## Loops (for and while)"
   ]
  },
  {
   "cell_type": "code",
   "execution_count": 185,
   "metadata": {},
   "outputs": [
    {
     "name": "stdout",
     "output_type": "stream",
     "text": [
      "277\n",
      "277\n"
     ]
    }
   ],
   "source": [
    "a = [21,34,87,65,70]\n",
    "total = a[0] + a[1] + a[2] + a[3] + a[4]\n",
    "print(total)\n",
    "\n",
    "# Instead of typing every index we use for loop.\n",
    "\n",
    "total_a = 0\n",
    "for item in a:\n",
    "    total_a = total_a + item      # for every item in list(a) add to total_a which will run in a loop until it finishes.\n",
    "print(total_a)"
   ]
  },
  {
   "cell_type": "code",
   "execution_count": 186,
   "metadata": {},
   "outputs": [
    {
     "name": "stdout",
     "output_type": "stream",
     "text": [
      "Bye Bye World\n",
      "Bye Bye World\n",
      "Bye Bye World\n",
      "Bye Bye World\n",
      "Bye Bye World\n"
     ]
    }
   ],
   "source": [
    "for x in range(5):               # print 5 times\n",
    "    print('Bye Bye World')"
   ]
  },
  {
   "cell_type": "code",
   "execution_count": 187,
   "metadata": {},
   "outputs": [
    {
     "name": "stdout",
     "output_type": "stream",
     "text": [
      "0\n",
      "1\n",
      "2\n",
      "3\n",
      "4\n"
     ]
    }
   ],
   "source": [
    "for x in range(5):             # prints the value of x in range till 10 \n",
    "    print(x)"
   ]
  },
  {
   "cell_type": "code",
   "execution_count": 188,
   "metadata": {
    "scrolled": true
   },
   "outputs": [
    {
     "name": "stdout",
     "output_type": "stream",
     "text": [
      "3\n",
      "4\n",
      "5\n",
      "6\n",
      "7\n",
      "8\n",
      "9\n",
      "10\n"
     ]
    }
   ],
   "source": [
    "for x in range(3,11):         # prints the value of x in range from 3 to 11. \n",
    "    print(x)"
   ]
  },
  {
   "cell_type": "code",
   "execution_count": 189,
   "metadata": {},
   "outputs": [
    {
     "name": "stdout",
     "output_type": "stream",
     "text": [
      "7 x 1 = 7\n",
      "7 x 2 = 14\n",
      "7 x 3 = 21\n",
      "7 x 4 = 28\n",
      "7 x 5 = 35\n",
      "7 x 6 = 42\n",
      "7 x 7 = 49\n",
      "7 x 8 = 56\n",
      "7 x 9 = 63\n",
      "7 x 10 = 70\n"
     ]
    }
   ],
   "source": [
    "def table(num):\n",
    "    for a in range(1,11):                    # printing tables\n",
    "        print(num, 'x', a, '=', num*a)\n",
    "\n",
    "table(7)"
   ]
  },
  {
   "cell_type": "code",
   "execution_count": 191,
   "metadata": {},
   "outputs": [
    {
     "name": "stdout",
     "output_type": "stream",
     "text": [
      "Key is not in Hall\n",
      "Key is not in Living Room\n",
      "Key is in Bedroom\n"
     ]
    }
   ],
   "source": [
    "# break is used to stop the loop if specific conditions are met. Here the key was found in 'Bedroom'.\n",
    "# so it did not search in 'Backyard'\n",
    "\n",
    "key_location = 'Bedroom'\n",
    "location = ['Hall','Living Room','Bedroom', 'Backyard']\n",
    "\n",
    "for x in location:\n",
    "    if x == key_location:\n",
    "        print('Key is in',x)\n",
    "        break\n",
    "    else:\n",
    "        print('Key is not in',x)"
   ]
  },
  {
   "cell_type": "code",
   "execution_count": 192,
   "metadata": {},
   "outputs": [
    {
     "name": "stdout",
     "output_type": "stream",
     "text": [
      "1\n",
      "2\n",
      "3\n",
      "4\n",
      "5\n"
     ]
    }
   ],
   "source": [
    "# while loop runs until the given statment is True.\n",
    "# Here it will print x until it reaches 5 which is <= 5 i.e True. 6<5 is False.\n",
    "\n",
    "x = 1\n",
    "while x<=5:\n",
    "    print(x)\n",
    "    x += 1"
   ]
  },
  {
   "cell_type": "markdown",
   "metadata": {},
   "source": [
    "## Create and Write a file"
   ]
  },
  {
   "cell_type": "code",
   "execution_count": 207,
   "metadata": {},
   "outputs": [],
   "source": [
    "# r=read\n",
    "# w=write\n",
    "# a=append\n",
    "# Once you open a file you need to close it.\n",
    "\n",
    "file = open('D:\\\\Abhishek\\\\zxc.txt','w')                        # 1st parameter is location and 2nd is mode.\n",
    "file.write('Hello, My name is Abhishek.\\nI love football.')\n",
    "file.close()"
   ]
  },
  {
   "cell_type": "code",
   "execution_count": 209,
   "metadata": {},
   "outputs": [
    {
     "name": "stdout",
     "output_type": "stream",
     "text": [
      "Hello, My name is Abhishek.\n",
      "I love football.\n"
     ]
    }
   ],
   "source": [
    "file = open('D:\\\\Abhishek\\\\zxc.txt','r')\n",
    "print(file.read())\n",
    "file.close()"
   ]
  },
  {
   "cell_type": "code",
   "execution_count": 210,
   "metadata": {},
   "outputs": [
    {
     "name": "stdout",
     "output_type": "stream",
     "text": [
      "Hello, My name is Abhishek.\n",
      "I love football.\n",
      "I also love playing Video Games.\n"
     ]
    }
   ],
   "source": [
    "file = open('D:\\\\Abhishek\\\\zxc.txt','a')\n",
    "file.write('\\nI also love playing Video Games.')\n",
    "file.close()\n",
    "\n",
    "file1 = open('D:\\\\Abhishek\\\\zxc.txt','r')\n",
    "print(file1.read())\n",
    "file.close()"
   ]
  },
  {
   "cell_type": "code",
   "execution_count": 211,
   "metadata": {},
   "outputs": [
    {
     "name": "stdout",
     "output_type": "stream",
     "text": [
      "Hello, My name is Abhishek.\n",
      "\n",
      "I love football.\n",
      "\n",
      "I also love playing Video Games.\n"
     ]
    }
   ],
   "source": [
    "file = open('D:\\\\Abhishek\\\\zxc.txt','r')     # using for loop, will print each sentence.\n",
    "for x in file:\n",
    "    print(x)"
   ]
  },
  {
   "cell_type": "code",
   "execution_count": 212,
   "metadata": {},
   "outputs": [
    {
     "name": "stdout",
     "output_type": "stream",
     "text": [
      "I am Awesome\n"
     ]
    }
   ],
   "source": [
    "file = open('D:\\\\Abhishek\\\\zxc.txt','w')\n",
    "file.write('I am Awesome')              # To overwrite a file dont use '\\n' on start\n",
    "file.close()\n",
    "\n",
    "file1 = open('D:\\\\Abhishek\\\\zxc.txt','r')\n",
    "print(file1.read())\n",
    "file.close()"
   ]
  },
  {
   "cell_type": "code",
   "execution_count": 213,
   "metadata": {},
   "outputs": [
    {
     "name": "stdout",
     "output_type": "stream",
     "text": [
      "I am Awesome\n"
     ]
    }
   ],
   "source": [
    "file = open('D:\\\\Abhishek\\\\zxc.txt','r')\n",
    "for x in file:\n",
    "    print(x)"
   ]
  },
  {
   "cell_type": "markdown",
   "metadata": {},
   "source": [
    "## Modules\n",
    "Its a way to reuse code written by someone else. A Python module can have a set of functions, classes or variables defined and implemented."
   ]
  },
  {
   "cell_type": "code",
   "execution_count": 214,
   "metadata": {},
   "outputs": [
    {
     "name": "stdout",
     "output_type": "stream",
     "text": [
      "7.0\n",
      "8.0\n",
      "2\n",
      "3\n"
     ]
    }
   ],
   "source": [
    "import math\n",
    "\n",
    "print(math.sqrt(49))\n",
    "print(math.pow(2,3))\n",
    "print(math.floor(2.6))   # will return the largest integer.\n",
    "print(math.ceil(2.6))    # will return the smallest integer."
   ]
  },
  {
   "cell_type": "code",
   "execution_count": 215,
   "metadata": {},
   "outputs": [
    {
     "name": "stdout",
     "output_type": "stream",
     "text": [
      "['__doc__', '__loader__', '__name__', '__package__', '__spec__', 'acos', 'acosh', 'asin', 'asinh', 'atan', 'atan2', 'atanh', 'ceil', 'copysign', 'cos', 'cosh', 'degrees', 'e', 'erf', 'erfc', 'exp', 'expm1', 'fabs', 'factorial', 'floor', 'fmod', 'frexp', 'fsum', 'gamma', 'gcd', 'hypot', 'inf', 'isclose', 'isfinite', 'isinf', 'isnan', 'ldexp', 'lgamma', 'log', 'log10', 'log1p', 'log2', 'modf', 'nan', 'pi', 'pow', 'radians', 'remainder', 'sin', 'sinh', 'sqrt', 'tan', 'tanh', 'tau', 'trunc']\n"
     ]
    }
   ],
   "source": [
    "print(dir(math))   # to look for all the funtions of a module or just Google the module"
   ]
  },
  {
   "cell_type": "code",
   "execution_count": 216,
   "metadata": {},
   "outputs": [
    {
     "name": "stdout",
     "output_type": "stream",
     "text": [
      "      May 2016\n",
      "Mo Tu We Th Fr Sa Su\n",
      "                   1\n",
      " 2  3  4  5  6  7  8\n",
      " 9 10 11 12 13 14 15\n",
      "16 17 18 19 20 21 22\n",
      "23 24 25 26 27 28 29\n",
      "30 31\n",
      "\n"
     ]
    }
   ],
   "source": [
    "import calendar\n",
    "\n",
    "cal = calendar.month(2016,5)    # 1st parameter is year 2nd is month\n",
    "print(cal)"
   ]
  },
  {
   "cell_type": "code",
   "execution_count": 217,
   "metadata": {},
   "outputs": [
    {
     "data": {
      "text/plain": [
       "True"
      ]
     },
     "execution_count": 217,
     "metadata": {},
     "output_type": "execute_result"
    }
   ],
   "source": [
    "calendar.isleap(2016)"
   ]
  },
  {
   "cell_type": "code",
   "execution_count": 218,
   "metadata": {},
   "outputs": [
    {
     "data": {
      "text/plain": [
       "False"
      ]
     },
     "execution_count": 218,
     "metadata": {},
     "output_type": "execute_result"
    }
   ],
   "source": [
    "calendar.isleap(2017)"
   ]
  },
  {
   "cell_type": "markdown",
   "metadata": {},
   "source": [
    "## Classes and Objects\n",
    "Video - https://www.youtube.com/watch?v=ZDa-Z5JzLYM"
   ]
  },
  {
   "cell_type": "code",
   "execution_count": 219,
   "metadata": {},
   "outputs": [
    {
     "name": "stdout",
     "output_type": "stream",
     "text": [
      "Jim\n",
      "Dwight.Schrute@office.com \n",
      "\n",
      "Jim Halpert\n",
      "Jim Halpert\n",
      "None\n",
      "Dwight Schrute\n",
      "None\n"
     ]
    }
   ],
   "source": [
    "class Office:\n",
    "    def __init__(self, firstn, lastn, pay):\n",
    "        self.firstn = firstn\n",
    "        self.lastn = lastn\n",
    "        self.pay = pay\n",
    "        self.email = firstn + '.' + lastn + '@office.com'\n",
    "        \n",
    "    def fulln(self):\n",
    "        print('{} {}'.format(self.firstn, self.lastn))\n",
    "\n",
    "emp1 = Office('Jim','Halpert',20000)\n",
    "emp2 = Office('Dwight','Schrute',18000)\n",
    "\n",
    "print(emp1.firstn)\n",
    "print(emp2.email,'\\n')\n",
    "\n",
    "print('{} {}'.format(emp1.firstn, emp1.lastn))\n",
    "\n",
    "#    Or create a function def fulln()\n",
    "\n",
    "print(emp1.fulln())\n",
    "print(Office.fulln(emp2))"
   ]
  },
  {
   "cell_type": "markdown",
   "metadata": {},
   "source": [
    "## Print vs Return"
   ]
  },
  {
   "cell_type": "code",
   "execution_count": 36,
   "metadata": {
    "scrolled": true
   },
   "outputs": [
    {
     "name": "stdout",
     "output_type": "stream",
     "text": [
      "Hello World\n"
     ]
    }
   ],
   "source": [
    "def hw():\n",
    "    print('Hello World')\n",
    "hw()"
   ]
  },
  {
   "cell_type": "code",
   "execution_count": 37,
   "metadata": {},
   "outputs": [
    {
     "name": "stdout",
     "output_type": "stream",
     "text": [
      "Hello World\n"
     ]
    }
   ],
   "source": [
    "a = hw()"
   ]
  },
  {
   "cell_type": "code",
   "execution_count": 39,
   "metadata": {},
   "outputs": [
    {
     "name": "stdout",
     "output_type": "stream",
     "text": [
      "None\n"
     ]
    }
   ],
   "source": [
    "print(a)"
   ]
  },
  {
   "cell_type": "code",
   "execution_count": 46,
   "metadata": {},
   "outputs": [
    {
     "data": {
      "text/plain": [
       "'Hello World 2'"
      ]
     },
     "execution_count": 46,
     "metadata": {},
     "output_type": "execute_result"
    }
   ],
   "source": [
    "def hw2():\n",
    "    return \"Hello World 2\"      # return prints the value when the function is called.\n",
    "hw2()"
   ]
  },
  {
   "cell_type": "code",
   "execution_count": 44,
   "metadata": {},
   "outputs": [],
   "source": [
    "b = hw2()"
   ]
  },
  {
   "cell_type": "code",
   "execution_count": 45,
   "metadata": {},
   "outputs": [
    {
     "name": "stdout",
     "output_type": "stream",
     "text": [
      "Hello World 2\n"
     ]
    }
   ],
   "source": [
    "print(b)"
   ]
  }
 ],
 "metadata": {
  "kernelspec": {
   "display_name": "Python 3",
   "language": "python",
   "name": "python3"
  },
  "language_info": {
   "codemirror_mode": {
    "name": "ipython",
    "version": 3
   },
   "file_extension": ".py",
   "mimetype": "text/x-python",
   "name": "python",
   "nbconvert_exporter": "python",
   "pygments_lexer": "ipython3",
   "version": "3.7.6"
  }
 },
 "nbformat": 4,
 "nbformat_minor": 4
}
