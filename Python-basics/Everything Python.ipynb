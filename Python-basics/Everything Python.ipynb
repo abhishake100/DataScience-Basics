{
 "cells": [
  {
   "cell_type": "markdown",
   "metadata": {},
   "source": [
    "# Basics of Python"
   ]
  },
  {
   "cell_type": "code",
   "execution_count": 7,
   "metadata": {},
   "outputs": [
    {
     "data": {
      "text/plain": [
       "3"
      ]
     },
     "execution_count": 7,
     "metadata": {},
     "output_type": "execute_result"
    }
   ],
   "source": [
    "a = 3\n",
    "a"
   ]
  },
  {
   "cell_type": "code",
   "execution_count": 8,
   "metadata": {},
   "outputs": [
    {
     "data": {
      "text/plain": [
       "5"
      ]
     },
     "execution_count": 8,
     "metadata": {},
     "output_type": "execute_result"
    }
   ],
   "source": [
    "3 + 2"
   ]
  },
  {
   "cell_type": "code",
   "execution_count": 43,
   "metadata": {},
   "outputs": [
    {
     "name": "stdout",
     "output_type": "stream",
     "text": [
      "abhishek\n",
      "abhishek\n"
     ]
    }
   ],
   "source": [
    "# You can use single or double quotes\n",
    "a = 'abhishek'\n",
    "b = \"abhishek\"\n",
    "\n",
    "print(a)\n",
    "print(b)"
   ]
  },
  {
   "cell_type": "markdown",
   "metadata": {},
   "source": [
    "## Data Types"
   ]
  },
  {
   "cell_type": "code",
   "execution_count": 15,
   "metadata": {},
   "outputs": [
    {
     "name": "stdout",
     "output_type": "stream",
     "text": [
      "<class 'int'>\n",
      "<class 'str'>\n",
      "<class 'float'>\n",
      "<class 'bool'>\n",
      "<class 'bool'>\n"
     ]
    }
   ],
   "source": [
    "a = 42\n",
    "b = 'abhishek'\n",
    "c = 52.3\n",
    "d = True\n",
    "\n",
    "print(type(a))     # prints data type\n",
    "print(type(b))\n",
    "print(type(c))\n",
    "print(type(d))\n",
    "print(type(e))"
   ]
  },
  {
   "cell_type": "markdown",
   "metadata": {},
   "source": [
    "## Numbers"
   ]
  },
  {
   "cell_type": "code",
   "execution_count": 27,
   "metadata": {},
   "outputs": [],
   "source": [
    "a = 10\n",
    "b = 3\n",
    "c = 'abhi'"
   ]
  },
  {
   "cell_type": "code",
   "execution_count": 28,
   "metadata": {},
   "outputs": [
    {
     "name": "stdout",
     "output_type": "stream",
     "text": [
      "13\n",
      "7\n"
     ]
    }
   ],
   "source": [
    "# Add Subtract\n",
    "\n",
    "print(a+b)\n",
    "print(a-b)"
   ]
  },
  {
   "cell_type": "code",
   "execution_count": 35,
   "metadata": {},
   "outputs": [
    {
     "name": "stdout",
     "output_type": "stream",
     "text": [
      "30\n",
      "abhiabhiabhi\n",
      "3.3333333333333335\n"
     ]
    }
   ],
   "source": [
    "# Multiply Divide\n",
    "\n",
    "print(a*b)\n",
    "print(c*b)\n",
    "\n",
    "print(a/b)"
   ]
  },
  {
   "cell_type": "code",
   "execution_count": 30,
   "metadata": {},
   "outputs": [
    {
     "name": "stdout",
     "output_type": "stream",
     "text": [
      "1\n"
     ]
    }
   ],
   "source": [
    "print(a%b)           # modulus - gets remainder after division"
   ]
  },
  {
   "cell_type": "code",
   "execution_count": 31,
   "metadata": {},
   "outputs": [
    {
     "data": {
      "text/plain": [
       "91"
      ]
     },
     "execution_count": 31,
     "metadata": {},
     "output_type": "execute_result"
    }
   ],
   "source": [
    "# BODMAS\n",
    "\n",
    "(a+b)*(a-b)"
   ]
  },
  {
   "cell_type": "code",
   "execution_count": 32,
   "metadata": {},
   "outputs": [
    {
     "name": "stdout",
     "output_type": "stream",
     "text": [
      "1000\n"
     ]
    }
   ],
   "source": [
    "print(a**b)            # 10 to the power of 3 (10*10*10)"
   ]
  },
  {
   "cell_type": "code",
   "execution_count": 36,
   "metadata": {},
   "outputs": [
    {
     "name": "stdout",
     "output_type": "stream",
     "text": [
      "404\n"
     ]
    }
   ],
   "source": [
    "a_to_b = 157\n",
    "b_to_c = 247\n",
    "\n",
    "total_distance = a_to_b + b_to_c\n",
    "print(total_distance)"
   ]
  },
  {
   "cell_type": "code",
   "execution_count": 37,
   "metadata": {},
   "outputs": [
    {
     "data": {
      "text/plain": [
       "6.2153846153846155"
      ]
     },
     "execution_count": 37,
     "metadata": {},
     "output_type": "execute_result"
    }
   ],
   "source": [
    "mph = 65\n",
    "time = total_distance/mph\n",
    "time"
   ]
  },
  {
   "cell_type": "code",
   "execution_count": 40,
   "metadata": {},
   "outputs": [
    {
     "name": "stdout",
     "output_type": "stream",
     "text": [
      "6\n",
      "6.2154\n"
     ]
    }
   ],
   "source": [
    "print(round(time))      # rounds of float to int.\n",
    "print(round(time,4))    # 2nd value is how many digits you want after the decimal point"
   ]
  },
  {
   "cell_type": "code",
   "execution_count": 41,
   "metadata": {},
   "outputs": [
    {
     "data": {
      "text/plain": [
       "16"
      ]
     },
     "execution_count": 41,
     "metadata": {},
     "output_type": "execute_result"
    }
   ],
   "source": [
    "10 + 3 * 2"
   ]
  },
  {
   "cell_type": "code",
   "execution_count": 42,
   "metadata": {},
   "outputs": [
    {
     "data": {
      "text/plain": [
       "26"
      ]
     },
     "execution_count": 42,
     "metadata": {},
     "output_type": "execute_result"
    }
   ],
   "source": [
    "(10 + 3) * 2"
   ]
  },
  {
   "cell_type": "markdown",
   "metadata": {},
   "source": [
    "## Text"
   ]
  },
  {
   "cell_type": "code",
   "execution_count": 51,
   "metadata": {},
   "outputs": [
    {
     "data": {
      "text/plain": [
       "'Lionel Messi'"
      ]
     },
     "execution_count": 51,
     "metadata": {},
     "output_type": "execute_result"
    }
   ],
   "source": [
    "a = 'Lionel Messi'\n",
    "a"
   ]
  },
  {
   "cell_type": "code",
   "execution_count": 47,
   "metadata": {},
   "outputs": [
    {
     "name": "stdout",
     "output_type": "stream",
     "text": [
      "i\n",
      " \n"
     ]
    }
   ],
   "source": [
    "# Indexing or Reteieving data. Indexing always starts with 0 and -1.\n",
    "\n",
    "print(a[1])\n",
    "print(a[-6])\n",
    "\n",
    "\n",
    "#   L i o n e l   M e s s  i         L   i   o   n  e  l     M  e  s  s  i\n",
    "#   0 1 2 3 4 5 6 7 8 9 10 11       -12 -11 -10 -9 -8 -7 -6 -5 -4 -3 -2 -1"
   ]
  },
  {
   "cell_type": "code",
   "execution_count": 61,
   "metadata": {},
   "outputs": [
    {
     "name": "stdout",
     "output_type": "stream",
     "text": [
      "Lion\n",
      "Mess\n",
      "Mess\n"
     ]
    }
   ],
   "source": [
    "print(a[0:4])         # 0th is included, 4th is excluded\n",
    "print(a[7:11])\n",
    "print(a[-5:-1])"
   ]
  },
  {
   "cell_type": "code",
   "execution_count": 62,
   "metadata": {},
   "outputs": [
    {
     "name": "stdout",
     "output_type": "stream",
     "text": [
      "Messi\n",
      "Lion\n"
     ]
    }
   ],
   "source": [
    "print(a[7:])     # prints everything after 5th index\n",
    "print(a[:-8])    # prints everything till -8th index"
   ]
  },
  {
   "cell_type": "code",
   "execution_count": 66,
   "metadata": {},
   "outputs": [
    {
     "name": "stdout",
     "output_type": "stream",
     "text": [
      "I love 'football'\n",
      "foot + ball = \"football\"\n",
      "\n",
      "\n",
      "I love Messi's team\n",
      "this\\that\n"
     ]
    }
   ],
   "source": [
    "print(\"I love 'football'\")\n",
    "print('foot + ball = \"football\"')\n",
    "print('\\n')                                              # \\n for new line\n",
    "print('I love Messi\\'s team')                            # use backslash(\\) to include single quote (') before single quote.\n",
    "print('this\\\\that')    "
   ]
  },
  {
   "cell_type": "code",
   "execution_count": 67,
   "metadata": {},
   "outputs": [
    {
     "name": "stdout",
     "output_type": "stream",
     "text": [
      "Address: 21 Neon Street,\n",
      "\t Mumbai,\n",
      "\t India\n",
      "\n",
      "Address: 21 Neon Street,\n",
      "         Mumbai,\n",
      "         India\n"
     ]
    }
   ],
   "source": [
    "print('Address: 21 Neon Street,\\n\\t Mumbai,\\n\\t India\\n')   # \\t for tab or indent\n",
    "\n",
    "# OR use triple quote\n",
    "\n",
    "print('''Address: 21 Neon Street,\n",
    "         Mumbai,\n",
    "         India''')"
   ]
  },
  {
   "cell_type": "code",
   "execution_count": 78,
   "metadata": {},
   "outputs": [
    {
     "name": "stdout",
     "output_type": "stream",
     "text": [
      "My name is Abhishek and i love football\n",
      "My name is Abhishek and i love football\n",
      "My name is Abhishek and i love football\n",
      "football\n",
      "Abhishek loves football\n"
     ]
    }
   ],
   "source": [
    "name = 'Abhishek'\n",
    "game = 'football'\n",
    "\n",
    "a = 'foot'\n",
    "b = 'ball'\n",
    "# Diiferent ways to print strings.\n",
    "\n",
    "print('My name is '+ name + ' and i love ' + game)\n",
    "print('My name is {} and i love {}'.format(name,game))\n",
    "print('My name is {a} and i love {b}'.format(a=name,b=game))\n",
    "print(a + b)\n",
    "print(name + ' loves ' + game)"
   ]
  },
  {
   "cell_type": "code",
   "execution_count": 71,
   "metadata": {},
   "outputs": [
    {
     "name": "stdout",
     "output_type": "stream",
     "text": [
      "My name is Abhi.\n",
      "Iam 100 years old.\n"
     ]
    }
   ],
   "source": [
    "name = 'Abhi'\n",
    "age = 100\n",
    "\n",
    "# to print num we need to covert it into string.\n",
    "\n",
    "print('My name is '+ name +'.\\nIam '+ str(age) +' years old.')"
   ]
  },
  {
   "cell_type": "code",
   "execution_count": 72,
   "metadata": {},
   "outputs": [
    {
     "data": {
      "text/plain": [
       "8"
      ]
     },
     "execution_count": 72,
     "metadata": {},
     "output_type": "execute_result"
    }
   ],
   "source": [
    "len('abhishek')   # prints the number of items"
   ]
  },
  {
   "cell_type": "markdown",
   "metadata": {},
   "source": [
    "## Lists\n",
    "List is a collection of items that can be ordered, unordered and changeable. Allows duplicate items and are defined using square brackets [ ]"
   ]
  },
  {
   "cell_type": "code",
   "execution_count": 102,
   "metadata": {},
   "outputs": [
    {
     "name": "stdout",
     "output_type": "stream",
     "text": [
      "['Ferrari', 'Porsche', 'BMW', 'Mercedes', 'Porsche']\n",
      "<class 'list'>\n"
     ]
    }
   ],
   "source": [
    "cars = ['Ferrari','Porsche','BMW','Mercedes','Porsche']\n",
    "\n",
    "print(cars)\n",
    "print(type(cars))"
   ]
  },
  {
   "cell_type": "code",
   "execution_count": 103,
   "metadata": {},
   "outputs": [
    {
     "name": "stdout",
     "output_type": "stream",
     "text": [
      "BMW\n",
      "['Porsche', 'BMW']\n"
     ]
    }
   ],
   "source": [
    "# Indexing\n",
    "\n",
    "print(cars[2])\n",
    "print(cars[1:3])"
   ]
  },
  {
   "cell_type": "code",
   "execution_count": 104,
   "metadata": {},
   "outputs": [
    {
     "data": {
      "text/plain": [
       "['Ferrari', 'Tesla', 'BMW', 'Mercedes', 'Porsche']"
      ]
     },
     "execution_count": 104,
     "metadata": {},
     "output_type": "execute_result"
    }
   ],
   "source": [
    "cars[1] = 'Tesla'       # change items in the list\n",
    "cars"
   ]
  },
  {
   "cell_type": "code",
   "execution_count": 105,
   "metadata": {},
   "outputs": [
    {
     "data": {
      "text/plain": [
       "['Ferrari', 'Tesla', 'BMW', 'Mercedes', 'Porsche', 'Audi']"
      ]
     },
     "execution_count": 105,
     "metadata": {},
     "output_type": "execute_result"
    }
   ],
   "source": [
    "cars.append('Audi')     # append adds item at the end of the list\n",
    "cars"
   ]
  },
  {
   "cell_type": "code",
   "execution_count": 106,
   "metadata": {},
   "outputs": [
    {
     "data": {
      "text/plain": [
       "['Ferrari', 'Tesla', 'Jaguar', 'BMW', 'Mercedes', 'Porsche', 'Audi']"
      ]
     },
     "execution_count": 106,
     "metadata": {},
     "output_type": "execute_result"
    }
   ],
   "source": [
    "cars.insert(2,'Jaguar')   # adds item at given index\n",
    "cars"
   ]
  },
  {
   "cell_type": "code",
   "execution_count": 107,
   "metadata": {},
   "outputs": [
    {
     "data": {
      "text/plain": [
       "['Ferrari',\n",
       " 'Tesla',\n",
       " 'Jaguar',\n",
       " 'BMW',\n",
       " 'Mercedes',\n",
       " 'Porsche',\n",
       " 'Audi',\n",
       " 'Maserati',\n",
       " 'Audi']"
      ]
     },
     "execution_count": 107,
     "metadata": {},
     "output_type": "execute_result"
    }
   ],
   "source": [
    "cars.extend(['Maserati','Audi'])     # add multiple items\n",
    "cars"
   ]
  },
  {
   "cell_type": "code",
   "execution_count": 108,
   "metadata": {},
   "outputs": [
    {
     "data": {
      "text/plain": [
       "['Ferrari',\n",
       " 'Tesla',\n",
       " 'Jaguar',\n",
       " 'BMW',\n",
       " 'Mercedes',\n",
       " 'Porsche',\n",
       " 'Audi',\n",
       " 'Maserati']"
      ]
     },
     "execution_count": 108,
     "metadata": {},
     "output_type": "execute_result"
    }
   ],
   "source": [
    "cars.pop()  # removes last item\n",
    "cars"
   ]
  },
  {
   "cell_type": "code",
   "execution_count": 109,
   "metadata": {},
   "outputs": [
    {
     "data": {
      "text/plain": [
       "['Ferrari', 'Tesla', 'Jaguar', 'BMW', 'Porsche', 'Audi', 'Maserati']"
      ]
     },
     "execution_count": 109,
     "metadata": {},
     "output_type": "execute_result"
    }
   ],
   "source": [
    "cars.pop(4)  # remove item by giving its index position\n",
    "cars"
   ]
  },
  {
   "cell_type": "code",
   "execution_count": 116,
   "metadata": {},
   "outputs": [
    {
     "name": "stdout",
     "output_type": "stream",
     "text": [
      "2\n",
      "6\n",
      "4\n",
      "10\n",
      "78\n",
      "209\n",
      "[21, 34, 45, 21, 78, 10, 21, 34, 45, 21, 78, 10]\n"
     ]
    }
   ],
   "source": [
    "a = [21,34,45,21,78,10]\n",
    "\n",
    "print(a.count(21))              # number of occurrences of value\n",
    "print(len(a))                   # number of items in the list\n",
    "print(a.index(78))              # index value of given item\n",
    "print(min(a))                   # lowest value\n",
    "print(max(a))                   # highest value\n",
    "print(sum(a))                   # adds all the numbers\n",
    "print(a*2)                      # print the list 2 times"
   ]
  },
  {
   "cell_type": "code",
   "execution_count": 117,
   "metadata": {},
   "outputs": [
    {
     "data": {
      "text/plain": [
       "['apple', 'mango', 'banana', 'watermelon', 'strawberry']"
      ]
     },
     "execution_count": 117,
     "metadata": {},
     "output_type": "execute_result"
    }
   ],
   "source": [
    "a = ['apple','mango','banana']\n",
    "b = ['watermelon','strawberry']\n",
    "c = a + b\n",
    "c"
   ]
  },
  {
   "cell_type": "code",
   "execution_count": 119,
   "metadata": {},
   "outputs": [
    {
     "name": "stdout",
     "output_type": "stream",
     "text": [
      "False\n",
      "True\n"
     ]
    }
   ],
   "source": [
    "# check if a given item is in the list\n",
    "\n",
    "print('pencil' in c)\n",
    "print('mango' in c)"
   ]
  },
  {
   "cell_type": "markdown",
   "metadata": {},
   "source": [
    "## Sets\n",
    "Set is a collection of elements and no duplicate elements are present. They are defined using curly brackets { }"
   ]
  },
  {
   "cell_type": "code",
   "execution_count": 122,
   "metadata": {},
   "outputs": [
    {
     "name": "stdout",
     "output_type": "stream",
     "text": [
      "{'Hulk', 'Captain America', 'Spiderman', 'Ironman'}\n",
      "<class 'set'>\n"
     ]
    }
   ],
   "source": [
    "avengers = {'Ironman','Hulk','Spiderman','Hulk','Captain America'}\n",
    "\n",
    "print(avengers)                 # Hulk gets printed only once.\n",
    "print(type(avengers))"
   ]
  },
  {
   "cell_type": "code",
   "execution_count": 123,
   "metadata": {},
   "outputs": [
    {
     "data": {
      "text/plain": [
       "{'Captain America', 'Hulk', 'Ironman', 'Spiderman', 'Thor'}"
      ]
     },
     "execution_count": 123,
     "metadata": {},
     "output_type": "execute_result"
    }
   ],
   "source": [
    "avengers.add('Thor')       # add element\n",
    "avengers"
   ]
  },
  {
   "cell_type": "code",
   "execution_count": 124,
   "metadata": {},
   "outputs": [
    {
     "data": {
      "text/plain": [
       "{1, 2, 3, 4, 5, 6, 7}"
      ]
     },
     "execution_count": 124,
     "metadata": {},
     "output_type": "execute_result"
    }
   ],
   "source": [
    "set1 = {1,2,3,4,5}\n",
    "set2 = {1,2,3,4,5,6,7}\n",
    "\n",
    "set2.difference(set1)      #common elements will be removed but wont show unless you update the difference\n",
    "set2"
   ]
  },
  {
   "cell_type": "code",
   "execution_count": 125,
   "metadata": {},
   "outputs": [
    {
     "data": {
      "text/plain": [
       "{6, 7}"
      ]
     },
     "execution_count": 125,
     "metadata": {},
     "output_type": "execute_result"
    }
   ],
   "source": [
    "set2.difference_update(set1)     #Updates the difference\n",
    "set2"
   ]
  },
  {
   "cell_type": "code",
   "execution_count": 126,
   "metadata": {},
   "outputs": [
    {
     "data": {
      "text/plain": [
       "{1, 2, 3, 4, 'abhi'}"
      ]
     },
     "execution_count": 126,
     "metadata": {},
     "output_type": "execute_result"
    }
   ],
   "source": [
    "set_a = {'abhi',1,2,3,4}\n",
    "set_b = {'abhi',1,2,3,4,5}\n",
    "\n",
    "set_b.intersection(set_a)           #common elements will be printed\n",
    "set_b.intersection_update(set_a)\n",
    "\n",
    "set_b"
   ]
  },
  {
   "cell_type": "markdown",
   "metadata": {},
   "source": [
    "## Dictionaries\n",
    "Dictionary is a collection of data that has a key and a value. They are defined using curly brackets { }"
   ]
  },
  {
   "cell_type": "code",
   "execution_count": 127,
   "metadata": {},
   "outputs": [
    {
     "name": "stdout",
     "output_type": "stream",
     "text": [
      "{'Messi': 'Barcelona', 'Ronaldo': 'Juventus', 'Neymar': 'PSG', 'Hazard': 'Chelsea', 'Aguero': 'Manchester City'} \n",
      "\n",
      "<class 'dict'>\n"
     ]
    }
   ],
   "source": [
    "players = {'Messi':'Barcelona',           # 'Messi' is key and its vale is 'Barcelona'\n",
    "           'Ronaldo':'Juventus',\n",
    "           'Neymar':'PSG',\n",
    "           'Hazard':'Chelsea',\n",
    "           'Aguero':'Manchester City'}\n",
    "\n",
    "print(players,'\\n')\n",
    "print(type(players))"
   ]
  },
  {
   "cell_type": "code",
   "execution_count": 128,
   "metadata": {},
   "outputs": [
    {
     "data": {
      "text/plain": [
       "'Juventus'"
      ]
     },
     "execution_count": 128,
     "metadata": {},
     "output_type": "execute_result"
    }
   ],
   "source": [
    "players['Ronaldo']  # retrieve values using key"
   ]
  },
  {
   "cell_type": "code",
   "execution_count": 129,
   "metadata": {},
   "outputs": [
    {
     "data": {
      "text/plain": [
       "{'Messi': 'Barcelona',\n",
       " 'Ronaldo': 'Juventus',\n",
       " 'Neymar': 'PSG',\n",
       " 'Hazard': 'Chelsea',\n",
       " 'Aguero': 'Manchester City',\n",
       " 'Salah': 'Liverpool'}"
      ]
     },
     "execution_count": 129,
     "metadata": {},
     "output_type": "execute_result"
    }
   ],
   "source": [
    "players['Salah'] = 'Liverpool'     # add item\n",
    "players"
   ]
  },
  {
   "cell_type": "code",
   "execution_count": 130,
   "metadata": {},
   "outputs": [
    {
     "data": {
      "text/plain": [
       "{'Messi': 'Barcelona',\n",
       " 'Ronaldo': 'Juventus',\n",
       " 'Hazard': 'Chelsea',\n",
       " 'Aguero': 'Manchester City',\n",
       " 'Salah': 'Liverpool'}"
      ]
     },
     "execution_count": 130,
     "metadata": {},
     "output_type": "execute_result"
    }
   ],
   "source": [
    "del players['Neymar']               # delete\n",
    "players"
   ]
  },
  {
   "cell_type": "code",
   "execution_count": 133,
   "metadata": {},
   "outputs": [
    {
     "data": {
      "text/plain": [
       "{'Messi': 'Barcelona',\n",
       " 'Ronaldo': 'Juventus',\n",
       " 'Hazard': 'Chelsea',\n",
       " 'Aguero': 'Manchester City'}"
      ]
     },
     "execution_count": 133,
     "metadata": {},
     "output_type": "execute_result"
    }
   ],
   "source": [
    "players.pop('Salah')              # delete\n",
    "players"
   ]
  },
  {
   "cell_type": "code",
   "execution_count": 138,
   "metadata": {},
   "outputs": [
    {
     "name": "stdout",
     "output_type": "stream",
     "text": [
      "Messi\n",
      "Ronaldo\n",
      "Hazard\n",
      "Aguero\n"
     ]
    }
   ],
   "source": [
    "# print keys\n",
    "\n",
    "for x in players.keys():\n",
    "    print(x)"
   ]
  },
  {
   "cell_type": "code",
   "execution_count": 139,
   "metadata": {},
   "outputs": [
    {
     "name": "stdout",
     "output_type": "stream",
     "text": [
      "Barcelona\n",
      "Juventus\n",
      "Chelsea\n",
      "Manchester City\n"
     ]
    }
   ],
   "source": [
    "# print values\n",
    "\n",
    "for x in players.values():\n",
    "    print(x)"
   ]
  },
  {
   "cell_type": "code",
   "execution_count": 141,
   "metadata": {},
   "outputs": [
    {
     "name": "stdout",
     "output_type": "stream",
     "text": [
      "('Messi', 'Barcelona')\n",
      "('Ronaldo', 'Juventus')\n",
      "('Hazard', 'Chelsea')\n",
      "('Aguero', 'Manchester City')\n"
     ]
    }
   ],
   "source": [
    "# print both\n",
    "\n",
    "for x in players.items():\n",
    "    print(x)"
   ]
  },
  {
   "cell_type": "code",
   "execution_count": 143,
   "metadata": {},
   "outputs": [
    {
     "data": {
      "text/plain": [
       "True"
      ]
     },
     "execution_count": 143,
     "metadata": {},
     "output_type": "execute_result"
    }
   ],
   "source": [
    "'Hazard' in players    # check if a given key is in the dict"
   ]
  },
  {
   "cell_type": "code",
   "execution_count": 144,
   "metadata": {},
   "outputs": [
    {
     "data": {
      "text/plain": [
       "False"
      ]
     },
     "execution_count": 144,
     "metadata": {},
     "output_type": "execute_result"
    }
   ],
   "source": [
    "'Salah' in players"
   ]
  },
  {
   "cell_type": "code",
   "execution_count": 145,
   "metadata": {},
   "outputs": [
    {
     "data": {
      "text/plain": [
       "{'Messi': 'Barcelona',\n",
       " 'Ronaldo': 'Juventus',\n",
       " 'Hazard': 'Real Madrid',\n",
       " 'Aguero': 'Manchester City'}"
      ]
     },
     "execution_count": 145,
     "metadata": {},
     "output_type": "execute_result"
    }
   ],
   "source": [
    "players['Hazard'] = 'Real Madrid'    # assign new value to a key\n",
    "players"
   ]
  },
  {
   "cell_type": "code",
   "execution_count": 146,
   "metadata": {},
   "outputs": [
    {
     "data": {
      "text/plain": [
       "{}"
      ]
     },
     "execution_count": 146,
     "metadata": {},
     "output_type": "execute_result"
    }
   ],
   "source": [
    "players.clear()       # delete dict\n",
    "players"
   ]
  },
  {
   "cell_type": "markdown",
   "metadata": {},
   "source": [
    "## Nested Dictionary"
   ]
  },
  {
   "cell_type": "code",
   "execution_count": 148,
   "metadata": {},
   "outputs": [
    {
     "data": {
      "text/plain": [
       "{'Football': {'Messi': 32, 'Ronaldo': 35},\n",
       " 'Cricket': {'Dhoni': 38},\n",
       " 'Basketball': {'LeBron': 35}}"
      ]
     },
     "execution_count": 148,
     "metadata": {},
     "output_type": "execute_result"
    }
   ],
   "source": [
    "dict1 = {'Messi':32,'Ronaldo':35}\n",
    "dict2 = {'Dhoni':38}\n",
    "dict3 = {'LeBron':35}\n",
    "\n",
    "sport = {'Football':dict1,'Cricket':dict2,'Basketball':dict3}\n",
    "\n",
    "sport"
   ]
  },
  {
   "cell_type": "code",
   "execution_count": 152,
   "metadata": {},
   "outputs": [
    {
     "name": "stdout",
     "output_type": "stream",
     "text": [
      "{'Messi': 32, 'Ronaldo': 35} \n",
      "\n",
      "38\n"
     ]
    }
   ],
   "source": [
    "print(sport['Football'],'\\n')                # retrieving values\n",
    "\n",
    "print(sport['Cricket']['Dhoni'])"
   ]
  },
  {
   "cell_type": "markdown",
   "metadata": {},
   "source": [
    "## Tuples\n",
    "In tuples a single item cannot be changed, you need to change the whole tuple. They are defined using round brackets ( )"
   ]
  },
  {
   "cell_type": "code",
   "execution_count": 1,
   "metadata": {},
   "outputs": [
    {
     "name": "stdout",
     "output_type": "stream",
     "text": [
      "('Messi', 'Suarez', 'Neymar')\n",
      "<class 'tuple'>\n"
     ]
    }
   ],
   "source": [
    "players = ('Messi','Suarez','Neymar')\n",
    "print(players)\n",
    "print(type(players))"
   ]
  },
  {
   "cell_type": "code",
   "execution_count": 2,
   "metadata": {},
   "outputs": [
    {
     "data": {
      "text/plain": [
       "'Suarez'"
      ]
     },
     "execution_count": 2,
     "metadata": {},
     "output_type": "execute_result"
    }
   ],
   "source": [
    "players[1]       # indexing"
   ]
  },
  {
   "cell_type": "code",
   "execution_count": 4,
   "metadata": {},
   "outputs": [
    {
     "data": {
      "text/plain": [
       "2"
      ]
     },
     "execution_count": 4,
     "metadata": {},
     "output_type": "execute_result"
    }
   ],
   "source": [
    "players.index('Neymar')          # indexing"
   ]
  },
  {
   "cell_type": "code",
   "execution_count": 5,
   "metadata": {},
   "outputs": [
    {
     "data": {
      "text/plain": [
       "('Lebron James', 'Stephen Curry', 'Michael Jordan', 'Stephen Curry')"
      ]
     },
     "execution_count": 5,
     "metadata": {},
     "output_type": "execute_result"
    }
   ],
   "source": [
    "players = ('Lebron James','Stephen Curry','Michael Jordan','Stephen Curry')     # replace tuple with new values\n",
    "players"
   ]
  },
  {
   "cell_type": "code",
   "execution_count": 6,
   "metadata": {},
   "outputs": [
    {
     "data": {
      "text/plain": [
       "2"
      ]
     },
     "execution_count": 6,
     "metadata": {},
     "output_type": "execute_result"
    }
   ],
   "source": [
    "players.count('Stephen Curry')      # prints number of occurrences of value"
   ]
  },
  {
   "cell_type": "markdown",
   "metadata": {},
   "source": [
    "## Funtions\n",
    "They are a block of code that performs given task. Funtions are defined using def"
   ]
  },
  {
   "cell_type": "code",
   "execution_count": 10,
   "metadata": {},
   "outputs": [
    {
     "name": "stdout",
     "output_type": "stream",
     "text": [
      "My name is Abhishek and iam 22 years old.\n"
     ]
    }
   ],
   "source": [
    "def whoami():\n",
    "    name = 'Abhishek'\n",
    "    age = 22\n",
    "    print('My name is '+ name +' and iam '+ str(age) +' years old.')\n",
    "\n",
    "whoami()"
   ]
  },
  {
   "cell_type": "code",
   "execution_count": 1,
   "metadata": {},
   "outputs": [
    {
     "name": "stdout",
     "output_type": "stream",
     "text": [
      "150\n"
     ]
    }
   ],
   "source": [
    "def add(num):                             # single parameter\n",
    "    print(num + 100)\n",
    "\n",
    "add(50)"
   ]
  },
  {
   "cell_type": "code",
   "execution_count": 2,
   "metadata": {},
   "outputs": [
    {
     "name": "stdout",
     "output_type": "stream",
     "text": [
      "30\n"
     ]
    }
   ],
   "source": [
    "def add(x,y):                             # multiple parameters\n",
    "    print(x + y)\n",
    "    \n",
    "add(20,10)"
   ]
  },
  {
   "cell_type": "code",
   "execution_count": 4,
   "metadata": {},
   "outputs": [
    {
     "name": "stdout",
     "output_type": "stream",
     "text": [
      "20\n",
      "None\n",
      "15\n",
      "None\n"
     ]
    }
   ],
   "source": [
    "def add(a,b=5):                          # assign default value\n",
    "    print(a + b)\n",
    "\n",
    "print(add(10,10))\n",
    "print(add(10))                           # if second parameter is not given, the default value will take its place"
   ]
  },
  {
   "cell_type": "code",
   "execution_count": 79,
   "metadata": {
    "scrolled": true
   },
   "outputs": [
    {
     "name": "stdout",
     "output_type": "stream",
     "text": [
      "My name is Abhishek\n",
      "\n",
      "\n",
      "Iam Awesome\n"
     ]
    }
   ],
   "source": [
    "# Funtion for new line\n",
    "def nl():\n",
    "    print('\\n')\n",
    "\n",
    "print('My name is Abhishek')\n",
    "nl()\n",
    "print('Iam Awesome')"
   ]
  },
  {
   "cell_type": "code",
   "execution_count": 82,
   "metadata": {},
   "outputs": [
    {
     "name": "stdout",
     "output_type": "stream",
     "text": [
      "Hello Abhishek\n"
     ]
    }
   ],
   "source": [
    "def greet(nm):\n",
    "    print('Hello',nm)\n",
    "greet('Abhishek')"
   ]
  },
  {
   "cell_type": "markdown",
   "metadata": {},
   "source": [
    "## Operators (Boolean and Logical)\n",
    "\n",
    "### Boolean Operators - True False"
   ]
  },
  {
   "cell_type": "code",
   "execution_count": 11,
   "metadata": {},
   "outputs": [
    {
     "name": "stdout",
     "output_type": "stream",
     "text": [
      "True\n",
      "<class 'bool'>\n"
     ]
    }
   ],
   "source": [
    "bool=True\n",
    "\n",
    "print(bool)\n",
    "print(type(bool))"
   ]
  },
  {
   "cell_type": "code",
   "execution_count": 14,
   "metadata": {},
   "outputs": [
    {
     "name": "stdout",
     "output_type": "stream",
     "text": [
      "True True False False True\n",
      "\n",
      "\n",
      "<class 'str'>\n",
      "<class 'bool'> <class 'bool'>\n"
     ]
    }
   ],
   "source": [
    "bool_a = 'True'\n",
    "\n",
    "bool1 = True\n",
    "bool2 = 3+3 == 6\n",
    "bool3 = False\n",
    "bool4 = 3+3 == 9\n",
    "bool5 = 3+3 != 9                   # != means not equal to\n",
    "\n",
    "print(bool1,bool2,bool3,bool4,bool5)\n",
    "nl()\n",
    "print(type(bool_a))                 # here bool_a is declared as a string cause of quotes.\n",
    "print(type(bool1), type(bool2))"
   ]
  },
  {
   "cell_type": "markdown",
   "metadata": {},
   "source": [
    "### Logical Operators - Less than, greater than"
   ]
  },
  {
   "cell_type": "code",
   "execution_count": 15,
   "metadata": {},
   "outputs": [
    {
     "name": "stdout",
     "output_type": "stream",
     "text": [
      "False\n",
      "True\n",
      "True\n",
      "False\n"
     ]
    }
   ],
   "source": [
    "print(4 < 2)           # logical operators\n",
    "print(4 > 2)\n",
    "print(4 >= 2)\n",
    "print(4 <= 2)"
   ]
  },
  {
   "cell_type": "code",
   "execution_count": 18,
   "metadata": {},
   "outputs": [
    {
     "name": "stdout",
     "output_type": "stream",
     "text": [
      "True\n",
      "False\n",
      "True\n",
      "True\n",
      "\n",
      "\n",
      "False\n"
     ]
    }
   ],
   "source": [
    "print(True and True)\n",
    "print(True and False)     # In AND one value needs to be false for FALSE\n",
    "print(True or True)\n",
    "print(True or False)      # In OR both values needs to be false for FALSE\n",
    "nl()\n",
    "print(False or False)"
   ]
  },
  {
   "cell_type": "code",
   "execution_count": 19,
   "metadata": {},
   "outputs": [
    {
     "name": "stdout",
     "output_type": "stream",
     "text": [
      "False\n",
      "True\n"
     ]
    }
   ],
   "source": [
    "print(not True)\n",
    "print(not False)"
   ]
  },
  {
   "cell_type": "markdown",
   "metadata": {},
   "source": [
    "## Conditional Statements (if, else, elif)"
   ]
  },
  {
   "cell_type": "code",
   "execution_count": 20,
   "metadata": {},
   "outputs": [
    {
     "name": "stdout",
     "output_type": "stream",
     "text": [
      "You get a drink\n",
      "You get a drink\n",
      "No drink for you\n"
     ]
    }
   ],
   "source": [
    "# Here i have taken an example of a Bar.In the bar to get a drink you need to have to meet 2 conditions Money and Age\n",
    "# Money required is 5 and the age limit is 21.\n",
    "# First eg is just using money(mny) as a condition.\n",
    "\n",
    "def drink(mny):\n",
    "    if mny >= 5:\n",
    "        print('You get a drink')\n",
    "    else:\n",
    "        print(\"No drink for you\")\n",
    "drink(5)\n",
    "drink(7)\n",
    "drink(3)"
   ]
  },
  {
   "cell_type": "code",
   "execution_count": 27,
   "metadata": {},
   "outputs": [
    {
     "name": "stdout",
     "output_type": "stream",
     "text": [
      "Get Out\n",
      "You get a drink\n",
      "You are broke\n",
      "You are too young\n"
     ]
    }
   ],
   "source": [
    "def drink(mny,age):\n",
    "    if mny >= 5 and age >= 21:\n",
    "        print('You get a drink')\n",
    "    elif mny >= 5 and age <= 21:\n",
    "        print('You are too young')\n",
    "    elif mny <=5 and age >=21:\n",
    "        print('You are broke')\n",
    "    else:\n",
    "        print('Get Out')\n",
    "\n",
    "drink(4,19)\n",
    "drink(5,21)\n",
    "drink(2,35)\n",
    "drink(20,20)"
   ]
  },
  {
   "cell_type": "markdown",
   "metadata": {},
   "source": [
    "## Loops (for and while)"
   ]
  },
  {
   "cell_type": "code",
   "execution_count": 38,
   "metadata": {},
   "outputs": [
    {
     "name": "stdout",
     "output_type": "stream",
     "text": [
      "277\n",
      "277\n"
     ]
    }
   ],
   "source": [
    "a = [21,34,87,65,70]\n",
    "total = a[0] + a[1] + a[2] + a[3] + a[4]\n",
    "print(total)\n",
    "\n",
    "# Instead of typing every index we use for loop.\n",
    "\n",
    "totl = 0\n",
    "for item in a:\n",
    "    totl = totl + item      # for every item in list(a) add to total_a which will run in a loop until it finishes.\n",
    "print(totl)"
   ]
  },
  {
   "cell_type": "code",
   "execution_count": 36,
   "metadata": {},
   "outputs": [
    {
     "name": "stdout",
     "output_type": "stream",
     "text": [
      "Bye World\n",
      "Bye World\n",
      "Bye World\n",
      "Bye World\n",
      "Bye World\n"
     ]
    }
   ],
   "source": [
    "for x in range(5):               # print 5 times\n",
    "    print('Bye World')"
   ]
  },
  {
   "cell_type": "markdown",
   "metadata": {},
   "source": [
    "#### Range\n",
    "The range() function returns a sequence of numbers, starting from 0 by default, and increments by 1 by default, and stops before a specified number."
   ]
  },
  {
   "cell_type": "code",
   "execution_count": 56,
   "metadata": {},
   "outputs": [
    {
     "name": "stdout",
     "output_type": "stream",
     "text": [
      "0\n",
      "1\n",
      "2\n",
      "3\n"
     ]
    }
   ],
   "source": [
    "for x in range(4):             # prints the value of x in range till 5. \n",
    "    print(x)"
   ]
  },
  {
   "cell_type": "code",
   "execution_count": 55,
   "metadata": {},
   "outputs": [
    {
     "name": "stdout",
     "output_type": "stream",
     "text": [
      "1\n",
      "2\n",
      "3\n",
      "4\n",
      "5\n",
      "6\n",
      "7\n",
      "8\n",
      "9\n",
      "10\n"
     ]
    }
   ],
   "source": [
    "for x in range(1,11):\n",
    "    print(x)"
   ]
  },
  {
   "cell_type": "code",
   "execution_count": 50,
   "metadata": {},
   "outputs": [
    {
     "name": "stdout",
     "output_type": "stream",
     "text": [
      "1\n",
      "3\n",
      "5\n",
      "7\n",
      "9\n"
     ]
    }
   ],
   "source": [
    "for x in range(1,11,2):        # 3rd value is the increment value.\n",
    "    print(x)"
   ]
  },
  {
   "cell_type": "code",
   "execution_count": 60,
   "metadata": {},
   "outputs": [
    {
     "name": "stdout",
     "output_type": "stream",
     "text": [
      "7 x 1 = 7\n",
      "7 x 2 = 14\n",
      "7 x 3 = 21\n",
      "7 x 4 = 28\n",
      "7 x 5 = 35\n",
      "7 x 6 = 42\n",
      "7 x 7 = 49\n",
      "7 x 8 = 56\n",
      "7 x 9 = 63\n",
      "7 x 10 = 70\n"
     ]
    }
   ],
   "source": [
    "# Printing Tables\n",
    "for x in range(1,11):\n",
    "    print('7 x', x, '=', 7*x)"
   ]
  },
  {
   "cell_type": "code",
   "execution_count": 62,
   "metadata": {},
   "outputs": [
    {
     "name": "stdout",
     "output_type": "stream",
     "text": [
      "5 x 1 = 5\n",
      "5 x 2 = 10\n",
      "5 x 3 = 15\n",
      "5 x 4 = 20\n",
      "5 x 5 = 25\n",
      "5 x 6 = 30\n",
      "5 x 7 = 35\n",
      "5 x 8 = 40\n",
      "5 x 9 = 45\n",
      "5 x 10 = 50\n"
     ]
    }
   ],
   "source": [
    "# using Function we can print any tables we want.\n",
    "\n",
    "def table(num):\n",
    "    for x in range(1,11):\n",
    "        print(num,'x', x,'=', num * x)\n",
    "        \n",
    "table(5)"
   ]
  },
  {
   "cell_type": "code",
   "execution_count": 87,
   "metadata": {},
   "outputs": [
    {
     "name": "stdout",
     "output_type": "stream",
     "text": [
      "1\n",
      "2\n",
      "3\n",
      "4\n",
      "5\n"
     ]
    }
   ],
   "source": [
    "# while loop runs until the given statment is True.\n",
    "# Here it will print x until it reaches 5 which is <= 5 i.e True. 6<5 is False.\n",
    "\n",
    "x = 1\n",
    "while x <= 5:\n",
    "    print(x)\n",
    "    x+=1"
   ]
  },
  {
   "cell_type": "code",
   "execution_count": 97,
   "metadata": {},
   "outputs": [
    {
     "name": "stdout",
     "output_type": "stream",
     "text": [
      "1|2|3|4|5|"
     ]
    }
   ],
   "source": [
    "x=1\n",
    "while x<=5:\n",
    "    print(x, end='|')        # end used to print in a straight line. We can add anything in between if we like.\n",
    "    x+=1"
   ]
  },
  {
   "cell_type": "markdown",
   "metadata": {},
   "source": [
    "## Break, Continue and Pass\n",
    "Video - https://www.youtube.com/watch?v=JCRpVwtVL4I\n",
    "### break is used to stop the loop if specific conditions are met."
   ]
  },
  {
   "cell_type": "code",
   "execution_count": 65,
   "metadata": {},
   "outputs": [
    {
     "name": "stdout",
     "output_type": "stream",
     "text": [
      "Key is not in Hall\n",
      "Key is not in Living Room\n",
      "Key is in Bedroom\n"
     ]
    }
   ],
   "source": [
    "# Here the key was found in 'Bedroom' so it did not search in Backyard and Bathroom\n",
    "\n",
    "key_location = 'Bedroom'\n",
    "location = ['Hall','Living Room','Bedroom', 'Backyard','Bathroom']\n",
    "\n",
    "for x in location:\n",
    "    if x == key_location:\n",
    "        print('Key is in',x)\n",
    "        break\n",
    "    else:\n",
    "        print('Key is not in',x)"
   ]
  },
  {
   "cell_type": "markdown",
   "metadata": {},
   "source": [
    "### continue is used as the name says to continue the loop"
   ]
  },
  {
   "cell_type": "code",
   "execution_count": 112,
   "metadata": {
    "scrolled": true
   },
   "outputs": [
    {
     "name": "stdout",
     "output_type": "stream",
     "text": [
      "A\n",
      "b\n",
      "h\n",
      "s\n",
      "h\n",
      "e\n",
      "k\n",
      "End\n"
     ]
    }
   ],
   "source": [
    "# Here the loop will continue to print afer 'i' unlike break\n",
    "\n",
    "for x in \"Abhishek\":\n",
    "    if x == \"i\":\n",
    "        continue\n",
    "    print(x)\n",
    "\n",
    "print(\"End\")"
   ]
  },
  {
   "cell_type": "markdown",
   "metadata": {},
   "source": [
    "### Pass is used when you want to leave something empty and fill in later."
   ]
  },
  {
   "cell_type": "code",
   "execution_count": 3,
   "metadata": {
    "scrolled": true
   },
   "outputs": [
    {
     "ename": "IndentationError",
     "evalue": "expected an indented block (<ipython-input-3-ac094c302563>, line 3)",
     "output_type": "error",
     "traceback": [
      "\u001b[1;36m  File \u001b[1;32m\"<ipython-input-3-ac094c302563>\"\u001b[1;36m, line \u001b[1;32m3\u001b[0m\n\u001b[1;33m    print('Abhishek')\u001b[0m\n\u001b[1;37m    ^\u001b[0m\n\u001b[1;31mIndentationError\u001b[0m\u001b[1;31m:\u001b[0m expected an indented block\n"
     ]
    }
   ],
   "source": [
    "def ab():\n",
    "    \n",
    "print('Abhishek')"
   ]
  },
  {
   "cell_type": "code",
   "execution_count": 4,
   "metadata": {},
   "outputs": [
    {
     "name": "stdout",
     "output_type": "stream",
     "text": [
      "Abhishek\n"
     ]
    }
   ],
   "source": [
    "def cd():\n",
    "    pass\n",
    "\n",
    "print('Abhishek')"
   ]
  },
  {
   "cell_type": "markdown",
   "metadata": {},
   "source": [
    "## User Input"
   ]
  },
  {
   "cell_type": "code",
   "execution_count": 9,
   "metadata": {},
   "outputs": [
    {
     "name": "stdout",
     "output_type": "stream",
     "text": [
      "Enter NameAbhishek\n"
     ]
    },
    {
     "data": {
      "text/plain": [
       "'Abhishek'"
      ]
     },
     "execution_count": 9,
     "metadata": {},
     "output_type": "execute_result"
    }
   ],
   "source": [
    "x = input('Enter Name')\n",
    "x"
   ]
  },
  {
   "cell_type": "code",
   "execution_count": 37,
   "metadata": {},
   "outputs": [
    {
     "name": "stdout",
     "output_type": "stream",
     "text": [
      "Enter 1st number:20\n",
      "Enter 2nd number:20\n",
      "Total: 40\n"
     ]
    }
   ],
   "source": [
    "# Adding\n",
    "\n",
    "x = int(input('Enter 1st number:'))     # input always takes string so we have to convert it into int.\n",
    "y = int(input('Enter 2nd number:'))\n",
    "\n",
    "add = x+y\n",
    "\n",
    "print('Total:',add)"
   ]
  },
  {
   "cell_type": "markdown",
   "metadata": {},
   "source": [
    "## Create and Write a file"
   ]
  },
  {
   "cell_type": "code",
   "execution_count": 57,
   "metadata": {},
   "outputs": [],
   "source": [
    "# r=read\n",
    "# w=write\n",
    "# a=append\n",
    "# Once you open a file you need to close it.\n",
    "\n",
    "file = open('D:/Abhishek/zxc.txt','w')                        # 1st parameter is location and 2nd is mode.\n",
    "file.write('Hello, My name is Abhishek.\\nI love football.')\n",
    "file.close()"
   ]
  },
  {
   "cell_type": "code",
   "execution_count": 59,
   "metadata": {},
   "outputs": [
    {
     "name": "stdout",
     "output_type": "stream",
     "text": [
      "Hello, My name is Abhishek.\n",
      "I love football.\n"
     ]
    }
   ],
   "source": [
    "file = open('D:/Abhishek/zxc.txt','r')\n",
    "print(file.read())\n",
    "file.close()"
   ]
  },
  {
   "cell_type": "code",
   "execution_count": 60,
   "metadata": {},
   "outputs": [
    {
     "name": "stdout",
     "output_type": "stream",
     "text": [
      "Hello, My name is Abhishek.\n",
      "I love football.\n",
      "I also love playing Video Games.\n"
     ]
    }
   ],
   "source": [
    "file = open('D:/Abhishek/zxc.txt','a')\n",
    "file.write('\\nI also love playing Video Games.')\n",
    "file.close()\n",
    "\n",
    "file1 = open('D:/Abhishek/zxc.txt','r')\n",
    "print(file1.read())\n",
    "file.close()"
   ]
  },
  {
   "cell_type": "code",
   "execution_count": 61,
   "metadata": {},
   "outputs": [
    {
     "name": "stdout",
     "output_type": "stream",
     "text": [
      "Hello, My name is Abhishek.\n",
      "\n",
      "I love football.\n",
      "\n",
      "I also love playing Video Games.\n"
     ]
    }
   ],
   "source": [
    "file = open('D:\\\\Abhishek\\\\zxc.txt','r')     # using for loop, will print each sentence.\n",
    "for x in file:\n",
    "    print(x)"
   ]
  },
  {
   "cell_type": "code",
   "execution_count": 62,
   "metadata": {},
   "outputs": [
    {
     "name": "stdout",
     "output_type": "stream",
     "text": [
      "I am Awesome\n"
     ]
    }
   ],
   "source": [
    "file = open('D:\\\\Abhishek\\\\zxc.txt','w')\n",
    "file.write('I am Awesome')                    # To overwrite a file dont use '\\n' on start\n",
    "file.close()\n",
    "\n",
    "file1 = open('D:\\\\Abhishek\\\\zxc.txt','r')\n",
    "print(file1.read())\n",
    "file.close()"
   ]
  },
  {
   "cell_type": "markdown",
   "metadata": {},
   "source": [
    "## Modules\n",
    "Its a way to reuse code written by someone else. A Python module can have a set of functions, classes or variables defined and implemented."
   ]
  },
  {
   "cell_type": "code",
   "execution_count": 63,
   "metadata": {},
   "outputs": [
    {
     "name": "stdout",
     "output_type": "stream",
     "text": [
      "7.0\n",
      "8.0\n",
      "2\n",
      "3\n"
     ]
    }
   ],
   "source": [
    "import math\n",
    "\n",
    "print(math.sqrt(49))\n",
    "print(math.pow(2,3))\n",
    "print(math.floor(2.6))   # will return the largest integer.\n",
    "print(math.ceil(2.6))    # will return the smallest integer."
   ]
  },
  {
   "cell_type": "code",
   "execution_count": 65,
   "metadata": {},
   "outputs": [
    {
     "name": "stdout",
     "output_type": "stream",
     "text": [
      "['__doc__', '__loader__', '__name__', '__package__', '__spec__', 'acos', 'acosh', 'asin', 'asinh', 'atan', 'atan2', 'atanh', 'ceil', 'comb', 'copysign', 'cos', 'cosh', 'degrees', 'dist', 'e', 'erf', 'erfc', 'exp', 'expm1', 'fabs', 'factorial', 'floor', 'fmod', 'frexp', 'fsum', 'gamma', 'gcd', 'hypot', 'inf', 'isclose', 'isfinite', 'isinf', 'isnan', 'isqrt', 'ldexp', 'lgamma', 'log', 'log10', 'log1p', 'log2', 'modf', 'nan', 'perm', 'pi', 'pow', 'prod', 'radians', 'remainder', 'sin', 'sinh', 'sqrt', 'tan', 'tanh', 'tau', 'trunc']\n"
     ]
    }
   ],
   "source": [
    "print(dir(math))   # to look for all the funtions of a module or just Google the module"
   ]
  },
  {
   "cell_type": "code",
   "execution_count": 66,
   "metadata": {},
   "outputs": [
    {
     "name": "stdout",
     "output_type": "stream",
     "text": [
      "      May 2016\n",
      "Mo Tu We Th Fr Sa Su\n",
      "                   1\n",
      " 2  3  4  5  6  7  8\n",
      " 9 10 11 12 13 14 15\n",
      "16 17 18 19 20 21 22\n",
      "23 24 25 26 27 28 29\n",
      "30 31\n",
      "\n"
     ]
    }
   ],
   "source": [
    "import calendar\n",
    "\n",
    "cal = calendar.month(2016,5)    # 1st parameter is year 2nd is month\n",
    "print(cal)"
   ]
  },
  {
   "cell_type": "code",
   "execution_count": 67,
   "metadata": {},
   "outputs": [
    {
     "data": {
      "text/plain": [
       "True"
      ]
     },
     "execution_count": 67,
     "metadata": {},
     "output_type": "execute_result"
    }
   ],
   "source": [
    "calendar.isleap(2016)"
   ]
  },
  {
   "cell_type": "code",
   "execution_count": 68,
   "metadata": {},
   "outputs": [
    {
     "data": {
      "text/plain": [
       "False"
      ]
     },
     "execution_count": 68,
     "metadata": {},
     "output_type": "execute_result"
    }
   ],
   "source": [
    "calendar.isleap(2017)"
   ]
  },
  {
   "cell_type": "markdown",
   "metadata": {},
   "source": [
    "### Print vs Return"
   ]
  },
  {
   "cell_type": "code",
   "execution_count": 79,
   "metadata": {},
   "outputs": [
    {
     "name": "stdout",
     "output_type": "stream",
     "text": [
      "Hello World\n"
     ]
    }
   ],
   "source": [
    "def hw():\n",
    "    print('Hello World')\n",
    "hw()"
   ]
  },
  {
   "cell_type": "code",
   "execution_count": 81,
   "metadata": {},
   "outputs": [
    {
     "name": "stdout",
     "output_type": "stream",
     "text": [
      "Hello World\n"
     ]
    }
   ],
   "source": [
    "a = hw()"
   ]
  },
  {
   "cell_type": "code",
   "execution_count": 84,
   "metadata": {},
   "outputs": [
    {
     "name": "stdout",
     "output_type": "stream",
     "text": [
      "None\n"
     ]
    }
   ],
   "source": [
    "print(a)"
   ]
  },
  {
   "cell_type": "code",
   "execution_count": 88,
   "metadata": {},
   "outputs": [
    {
     "data": {
      "text/plain": [
       "'Hello World 2'"
      ]
     },
     "execution_count": 88,
     "metadata": {},
     "output_type": "execute_result"
    }
   ],
   "source": [
    "def hw1():\n",
    "    return \"Hello World 2\"      # return prints the value when the function is called.\n",
    "hw1()"
   ]
  },
  {
   "cell_type": "code",
   "execution_count": 89,
   "metadata": {},
   "outputs": [],
   "source": [
    "b = hw1()"
   ]
  },
  {
   "cell_type": "code",
   "execution_count": 90,
   "metadata": {},
   "outputs": [
    {
     "name": "stdout",
     "output_type": "stream",
     "text": [
      "Hello World 2\n"
     ]
    }
   ],
   "source": [
    "print(b)"
   ]
  },
  {
   "cell_type": "markdown",
   "metadata": {},
   "source": [
    "## Lambda Funtions\n",
    "A lambda function is a small anonymous function. It can take any number of arguments, but can only have one expression."
   ]
  },
  {
   "cell_type": "code",
   "execution_count": 95,
   "metadata": {},
   "outputs": [
    {
     "data": {
      "text/plain": [
       "9"
      ]
     },
     "execution_count": 95,
     "metadata": {},
     "output_type": "execute_result"
    }
   ],
   "source": [
    "def add(a,b):              # normal function\n",
    "    return a+b\n",
    "add(5,4)"
   ]
  },
  {
   "cell_type": "code",
   "execution_count": 94,
   "metadata": {},
   "outputs": [
    {
     "data": {
      "text/plain": [
       "9"
      ]
     },
     "execution_count": 94,
     "metadata": {},
     "output_type": "execute_result"
    }
   ],
   "source": [
    "add = lambda a,b:a+b       # using lamda, we just have to add the expression after colon(:).\n",
    "add(5,4)"
   ]
  },
  {
   "cell_type": "code",
   "execution_count": 5,
   "metadata": {},
   "outputs": [
    {
     "data": {
      "text/plain": [
       "True"
      ]
     },
     "execution_count": 5,
     "metadata": {},
     "output_type": "execute_result"
    }
   ],
   "source": [
    "# print if the number given is even or odd\n",
    "\n",
    "def eo(a):\n",
    "    if a%2==0:\n",
    "        return True\n",
    "eo(2)"
   ]
  },
  {
   "cell_type": "code",
   "execution_count": 6,
   "metadata": {},
   "outputs": [
    {
     "data": {
      "text/plain": [
       "False"
      ]
     },
     "execution_count": 6,
     "metadata": {},
     "output_type": "execute_result"
    }
   ],
   "source": [
    "# using lambda\n",
    "\n",
    "eo = lambda a:a%2==0\n",
    "eo(3)"
   ]
  },
  {
   "cell_type": "markdown",
   "metadata": {},
   "source": [
    "## Filter, Map and Reduce"
   ]
  },
  {
   "cell_type": "markdown",
   "metadata": {},
   "source": [
    "### Filter\n",
    "Video - https://www.youtube.com/watch?v=VrHcTFAkkak"
   ]
  },
  {
   "cell_type": "code",
   "execution_count": 21,
   "metadata": {},
   "outputs": [
    {
     "name": "stdout",
     "output_type": "stream",
     "text": [
      "[32, 40, 52, 36, 66, 42]\n",
      "[32, 40, 52, 36, 66, 42]\n"
     ]
    }
   ],
   "source": [
    "lst = [21,5,32,65,40,29,87,52,41,9,36,66,42,11,95]\n",
    "\n",
    "#print only even numbers\n",
    "\n",
    "def evn(n):\n",
    "    if n%2==0:\n",
    "        return True\n",
    "\n",
    "print(list(filter(evn,lst)))\n",
    "\n",
    "# the same output using lambda\n",
    "\n",
    "print(list(filter(lambda n:n%2==0,lst)))"
   ]
  },
  {
   "cell_type": "markdown",
   "metadata": {},
   "source": [
    "### Map\n",
    "video - https://www.youtube.com/watch?v=j1lTvjmOJbQ"
   ]
  },
  {
   "cell_type": "code",
   "execution_count": 37,
   "metadata": {},
   "outputs": [
    {
     "name": "stdout",
     "output_type": "stream",
     "text": [
      "[None, True, None, True, None, None]\n",
      "[False, True, False, True, False, False]\n"
     ]
    }
   ],
   "source": [
    "lst2 = [21,50,33,28,95,65]\n",
    "\n",
    "def evod(n):\n",
    "    if n%2==0:\n",
    "        return True\n",
    "\n",
    "print(list(map(evod,lst2)))\n",
    "\n",
    "# using lambda\n",
    "\n",
    "print(list(map(lambda n:n%2==0, lst2)))"
   ]
  },
  {
   "cell_type": "markdown",
   "metadata": {},
   "source": [
    "### Reduce\n",
    "Video - "
   ]
  },
  {
   "cell_type": "code",
   "execution_count": 48,
   "metadata": {},
   "outputs": [
    {
     "name": "stdout",
     "output_type": "stream",
     "text": [
      "292\n",
      "292\n"
     ]
    }
   ],
   "source": [
    "from functools import reduce     # we need to import reduce to use it\n",
    "\n",
    "def add(a,b):\n",
    "    return a+b\n",
    "\n",
    "print(reduce(add,lst2))\n",
    "\n",
    "# using lambda\n",
    "\n",
    "print(reduce(lambda a,b:a+b, lst2))"
   ]
  },
  {
   "cell_type": "markdown",
   "metadata": {},
   "source": [
    "## Iterators\n",
    "Video - https://www.youtube.com/watch?v=t5iO4LzVeLU"
   ]
  },
  {
   "cell_type": "code",
   "execution_count": 67,
   "metadata": {
    "scrolled": true
   },
   "outputs": [
    {
     "name": "stdout",
     "output_type": "stream",
     "text": [
      "<class 'list'>\n"
     ]
    }
   ],
   "source": [
    "lst=[1,2,3,4]\n",
    "print(type(lst))"
   ]
  },
  {
   "cell_type": "code",
   "execution_count": 68,
   "metadata": {},
   "outputs": [
    {
     "name": "stdout",
     "output_type": "stream",
     "text": [
      "1\n",
      "2\n",
      "3\n",
      "4\n"
     ]
    }
   ],
   "source": [
    "for x in lst:\n",
    "    print(x)"
   ]
  },
  {
   "cell_type": "code",
   "execution_count": 77,
   "metadata": {},
   "outputs": [
    {
     "data": {
      "text/plain": [
       "<list_iterator at 0x19e0689ea90>"
      ]
     },
     "execution_count": 77,
     "metadata": {},
     "output_type": "execute_result"
    }
   ],
   "source": [
    "a = iter(lst)\n",
    "a"
   ]
  },
  {
   "cell_type": "code",
   "execution_count": 78,
   "metadata": {},
   "outputs": [
    {
     "name": "stdout",
     "output_type": "stream",
     "text": [
      "<class 'list_iterator'>\n"
     ]
    }
   ],
   "source": [
    "print(type(a))"
   ]
  },
  {
   "cell_type": "code",
   "execution_count": 79,
   "metadata": {},
   "outputs": [
    {
     "data": {
      "text/plain": [
       "1"
      ]
     },
     "execution_count": 79,
     "metadata": {},
     "output_type": "execute_result"
    }
   ],
   "source": [
    "next(a)"
   ]
  },
  {
   "cell_type": "code",
   "execution_count": 80,
   "metadata": {},
   "outputs": [
    {
     "name": "stdout",
     "output_type": "stream",
     "text": [
      "2\n",
      "3\n",
      "4\n"
     ]
    }
   ],
   "source": [
    "for x in a:\n",
    "    print(x)"
   ]
  },
  {
   "cell_type": "markdown",
   "metadata": {},
   "source": [
    "## Generators\n",
    "Video - https://www.youtube.com/watch?v=lJUZc3OhU7A"
   ]
  },
  {
   "cell_type": "code",
   "execution_count": 3,
   "metadata": {},
   "outputs": [],
   "source": [
    "def gn():\n",
    "    yield 1\n",
    "    yield 2\n",
    "    yield 3\n",
    "    yield 4\n",
    "a = gn()"
   ]
  },
  {
   "cell_type": "code",
   "execution_count": 4,
   "metadata": {},
   "outputs": [
    {
     "data": {
      "text/plain": [
       "<generator object gn at 0x0000018AABA50190>"
      ]
     },
     "execution_count": 4,
     "metadata": {},
     "output_type": "execute_result"
    }
   ],
   "source": [
    "a"
   ]
  },
  {
   "cell_type": "code",
   "execution_count": 7,
   "metadata": {},
   "outputs": [
    {
     "data": {
      "text/plain": [
       "3"
      ]
     },
     "execution_count": 7,
     "metadata": {},
     "output_type": "execute_result"
    }
   ],
   "source": [
    "next(a)"
   ]
  },
  {
   "cell_type": "code",
   "execution_count": null,
   "metadata": {},
   "outputs": [
    {
     "name": "stdout",
     "output_type": "stream",
     "text": [
      "0\n",
      "1\n",
      "1\n",
      "2\n",
      "3\n",
      "5\n",
      "8\n",
      "13\n",
      "21\n",
      "34\n"
     ]
    }
   ],
   "source": [
    "# Printing Fibonacci numbers\n",
    "\n",
    "def fib():\n",
    "    a,b = 0, 1\n",
    "    while True:\n",
    "        yield a\n",
    "        a,b = b,a+b\n",
    "        \n",
    "for x in fib():\n",
    "    if x < 50:\n",
    "        print(x)"
   ]
  },
  {
   "cell_type": "markdown",
   "metadata": {},
   "source": [
    "## Decorators\n",
    "Video - https://www.youtube.com/watch?v=MYAEv3JoenI"
   ]
  },
  {
   "cell_type": "code",
   "execution_count": 122,
   "metadata": {},
   "outputs": [
    {
     "name": "stdout",
     "output_type": "stream",
     "text": [
      "Cannot Divide by 0\n"
     ]
    },
    {
     "data": {
      "text/plain": [
       "(3, 0)"
      ]
     },
     "execution_count": 122,
     "metadata": {},
     "output_type": "execute_result"
    }
   ],
   "source": [
    "def check(div):\n",
    "    def func(a,b):\n",
    "        if b == 0:\n",
    "            print('Cannot Divide by 0')\n",
    "            return(a,b)\n",
    "        div(a,b)\n",
    "    return func\n",
    "\n",
    "@check\n",
    "def divide(a,b):\n",
    "    return a/b\n",
    "\n",
    "divide(3,0)"
   ]
  },
  {
   "cell_type": "markdown",
   "metadata": {},
   "source": [
    "## OPPs"
   ]
  },
  {
   "cell_type": "markdown",
   "metadata": {},
   "source": [
    "### Classes and Objects\n",
    "Video - https://www.youtube.com/watch?v=ZDa-Z5JzLYM"
   ]
  },
  {
   "cell_type": "code",
   "execution_count": 3,
   "metadata": {},
   "outputs": [],
   "source": [
    "class office:\n",
    "    \n",
    "    emp_count = 0\n",
    "    raise_amt = 1.04\n",
    "    \n",
    "    def __init__(self, fname, lname, departmnt, salary):\n",
    "        self.fname = fname\n",
    "        self.lname = lname\n",
    "        self.email = fname + '.' + lname + '@office.com'\n",
    "        self.departmnt = departmnt\n",
    "        self.salary = salary\n",
    "        \n",
    "        office.emp_count += 1\n",
    "        \n",
    "    def fullname(self):\n",
    "        return self.fname + ' ' + self.lname\n",
    "    \n",
    "    def sal_raise(self):\n",
    "        self.salary = int(self.salary * self.raise_amt)\n",
    "    \n",
    "emp1 = office('Michael','Scott','Manager',50000)\n",
    "emp2 = office('Jim','Halpert','Sales',30000)"
   ]
  },
  {
   "cell_type": "code",
   "execution_count": 4,
   "metadata": {},
   "outputs": [
    {
     "name": "stdout",
     "output_type": "stream",
     "text": [
      "Michael\n",
      "Jim.Halpert@office.com\n",
      "50000 \n",
      "\n",
      "Hi iam Michael Scott and iam the Manager of the office.\n",
      "My names Jim and i work in Sales.\n"
     ]
    }
   ],
   "source": [
    "print(emp1.fname)\n",
    "print(emp2.email)\n",
    "print(emp1.salary,'\\n')\n",
    "print('Hi iam '+ emp1.fullname() +' and iam the '+ emp1.departmnt +' of the office.')\n",
    "print('My names {} and i work in {}.'.format(emp2.fname,emp2.departmnt))"
   ]
  },
  {
   "cell_type": "code",
   "execution_count": 5,
   "metadata": {},
   "outputs": [
    {
     "name": "stdout",
     "output_type": "stream",
     "text": [
      "50000\n",
      "52000\n"
     ]
    }
   ],
   "source": [
    "print(emp1.salary)\n",
    "emp1.sal_raise()\n",
    "print(emp1.salary)"
   ]
  },
  {
   "cell_type": "code",
   "execution_count": 6,
   "metadata": {},
   "outputs": [
    {
     "name": "stdout",
     "output_type": "stream",
     "text": [
      "30000\n",
      "1.03\n",
      "1.04\n"
     ]
    }
   ],
   "source": [
    "print(emp2.salary)\n",
    "emp2.raise_amt = 1.03\n",
    "print(emp2.raise_amt)\n",
    "print(emp1.raise_amt)"
   ]
  },
  {
   "cell_type": "code",
   "execution_count": 7,
   "metadata": {},
   "outputs": [
    {
     "data": {
      "text/plain": [
       "{'fname': 'Michael',\n",
       " 'lname': 'Scott',\n",
       " 'email': 'Michael.Scott@office.com',\n",
       " 'departmnt': 'Manager',\n",
       " 'salary': 52000}"
      ]
     },
     "execution_count": 7,
     "metadata": {},
     "output_type": "execute_result"
    }
   ],
   "source": [
    "emp1.__dict__"
   ]
  },
  {
   "cell_type": "code",
   "execution_count": 8,
   "metadata": {},
   "outputs": [
    {
     "data": {
      "text/plain": [
       "{'fname': 'Jim',\n",
       " 'lname': 'Halpert',\n",
       " 'email': 'Jim.Halpert@office.com',\n",
       " 'departmnt': 'Sales',\n",
       " 'salary': 30000,\n",
       " 'raise_amt': 1.03}"
      ]
     },
     "execution_count": 8,
     "metadata": {},
     "output_type": "execute_result"
    }
   ],
   "source": [
    "emp2.__dict__"
   ]
  },
  {
   "cell_type": "code",
   "execution_count": 9,
   "metadata": {},
   "outputs": [
    {
     "name": "stdout",
     "output_type": "stream",
     "text": [
      "52000\n",
      "30900\n"
     ]
    }
   ],
   "source": [
    "print(emp1.salary)\n",
    "emp2.sal_raise()\n",
    "print(emp2.salary)"
   ]
  },
  {
   "cell_type": "code",
   "execution_count": 10,
   "metadata": {},
   "outputs": [
    {
     "data": {
      "text/plain": [
       "2"
      ]
     },
     "execution_count": 10,
     "metadata": {},
     "output_type": "execute_result"
    }
   ],
   "source": [
    "office.emp_count"
   ]
  },
  {
   "cell_type": "code",
   "execution_count": 11,
   "metadata": {},
   "outputs": [
    {
     "data": {
      "text/plain": [
       "4"
      ]
     },
     "execution_count": 11,
     "metadata": {},
     "output_type": "execute_result"
    }
   ],
   "source": [
    "emp3 = office('Dwight','Scrute','Sales',30000)\n",
    "emp4 = office('Pam','Beesly','Reception',12000)\n",
    "office.emp_count"
   ]
  },
  {
   "cell_type": "markdown",
   "metadata": {},
   "source": [
    "### Inheritance\n",
    "Video:                                                          \n",
    "https://www.youtube.com/watch?v=Cn7AkDb4pIU                                                                                    \n",
    "https://www.youtube.com/watch?v=6P-P879BcHQ"
   ]
  },
  {
   "cell_type": "code",
   "execution_count": 20,
   "metadata": {},
   "outputs": [
    {
     "name": "stdout",
     "output_type": "stream",
     "text": [
      "hello world\n"
     ]
    }
   ],
   "source": [
    "class ab:    \n",
    "    def asd(self):\n",
    "        print('hello world')\n",
    "x = ab()\n",
    "x.asd()"
   ]
  },
  {
   "cell_type": "code",
   "execution_count": 26,
   "metadata": {},
   "outputs": [
    {
     "name": "stdout",
     "output_type": "stream",
     "text": [
      "HELLO WORLD\n",
      "hello world\n"
     ]
    }
   ],
   "source": [
    "class cd(ab):                       #inheritance\n",
    "    def qwe(self):\n",
    "        print('HELLO WORLD')\n",
    "y = cd()\n",
    "y.qwe()\n",
    "y.asd()"
   ]
  },
  {
   "cell_type": "code",
   "execution_count": 32,
   "metadata": {},
   "outputs": [
    {
     "name": "stdout",
     "output_type": "stream",
     "text": [
      "10\n",
      "5\n",
      "9\n"
     ]
    }
   ],
   "source": [
    "# example (Here i just added the add functionality to class calc2 from calc)\n",
    "\n",
    "class calc():\n",
    "    def add(self, a, b):\n",
    "        print(a+b)\n",
    "a=calc()\n",
    "a.add(5,5)\n",
    "\n",
    "class calc2(calc):\n",
    "    def subt(self, x, y):\n",
    "        print(x-y)\n",
    "b=calc2()\n",
    "b.subt(7,2)\n",
    "b.add(7,2)"
   ]
  },
  {
   "cell_type": "code",
   "execution_count": 36,
   "metadata": {},
   "outputs": [
    {
     "name": "stdout",
     "output_type": "stream",
     "text": [
      "6\n",
      "1\n",
      "5\n"
     ]
    }
   ],
   "source": [
    "class calc3(calc2):\n",
    "    def mul(self, m, n):\n",
    "        print(m*n)\n",
    "c=calc3()\n",
    "c.mul(3,2)\n",
    "c.subt(3,2)\n",
    "c.add(3,2)"
   ]
  },
  {
   "cell_type": "markdown",
   "metadata": {},
   "source": [
    "### Polymorphism\n",
    "Operator overloading - https://www.youtube.com/watch?v=9wd50TKv_OQ\n",
    "\n",
    "Method overloading and Method overriding - https://www.youtube.com/watch?v=CcTzTuIsoFk"
   ]
  },
  {
   "cell_type": "code",
   "execution_count": 69,
   "metadata": {},
   "outputs": [
    {
     "name": "stdout",
     "output_type": "stream",
     "text": [
      "Lionel Messi and Cristiano Ronaldo are the best players in football.\n"
     ]
    }
   ],
   "source": [
    "# Operator Overloading\n",
    "\n",
    "class players:\n",
    "    \n",
    "    player_count = 0\n",
    "    \n",
    "    def __init__(self, name, goals):\n",
    "        self.name = name\n",
    "        self.goals = goals\n",
    "        players.player_count += 1\n",
    "        \n",
    "    def __add__(self, other):\n",
    "        return self.goals + other.goals\n",
    "    \n",
    "    def __str__(self):\n",
    "        return '{}'.format(self.name)+' has scored {} goals.'.format(self.goals)\n",
    "        \n",
    "p1 = players('Lionel Messi',753)\n",
    "p2 = players('Cristiano Ronaldo',698)\n",
    "\n",
    "print(p1.name + ' and ' + p2.name + ' are the best players in football.')"
   ]
  },
  {
   "cell_type": "code",
   "execution_count": 47,
   "metadata": {},
   "outputs": [
    {
     "ename": "TypeError",
     "evalue": "unsupported operand type(s) for +: 'players' and 'players'",
     "output_type": "error",
     "traceback": [
      "\u001b[1;31m---------------------------------------------------------------------------\u001b[0m",
      "\u001b[1;31mTypeError\u001b[0m                                 Traceback (most recent call last)",
      "\u001b[1;32m<ipython-input-47-5b19f9eb77c0>\u001b[0m in \u001b[0;36m<module>\u001b[1;34m\u001b[0m\n\u001b[1;32m----> 1\u001b[1;33m \u001b[0mprint\u001b[0m\u001b[1;33m(\u001b[0m\u001b[0mp1\u001b[0m \u001b[1;33m+\u001b[0m \u001b[0mp2\u001b[0m\u001b[1;33m)\u001b[0m\u001b[1;33m\u001b[0m\u001b[1;33m\u001b[0m\u001b[0m\n\u001b[0m",
      "\u001b[1;31mTypeError\u001b[0m: unsupported operand type(s) for +: 'players' and 'players'"
     ]
    }
   ],
   "source": [
    "print(p1 + p2)    # Error when the __add__ method is not added."
   ]
  },
  {
   "cell_type": "code",
   "execution_count": 71,
   "metadata": {},
   "outputs": [
    {
     "name": "stdout",
     "output_type": "stream",
     "text": [
      "736\n",
      "736\n",
      "Luis Suarez has scored 370 goals.\n"
     ]
    }
   ],
   "source": [
    "p3 = players('Luis Suarez',370)\n",
    "p4 = players('Kylian Mbappe',366)\n",
    "\n",
    "print(p3 + p4)\n",
    "print(370+366)\n",
    "print(p3)        # after adding __str__ method."
   ]
  },
  {
   "cell_type": "code",
   "execution_count": 94,
   "metadata": {},
   "outputs": [
    {
     "name": "stdout",
     "output_type": "stream",
     "text": [
      "3\n",
      "5\n",
      "15\n"
     ]
    }
   ],
   "source": [
    "## Method Overloading\n",
    "\n",
    "def sum(self, a=None, b=None, c=None):\n",
    "    s = 0\n",
    "    if a!=None and b!=None and c!=None:\n",
    "        s = a+b+c\n",
    "    elif a!=None and b!=None:\n",
    "        s = a+b\n",
    "    else:\n",
    "        s = a\n",
    "    return s\n",
    "\n",
    "print(x.sum(3))\n",
    "print(x.sum(3,2))\n",
    "print(x.sum(8,5,2))"
   ]
  },
  {
   "cell_type": "code",
   "execution_count": 137,
   "metadata": {},
   "outputs": [
    {
     "name": "stdout",
     "output_type": "stream",
     "text": [
      "Orange\n"
     ]
    }
   ],
   "source": [
    "# Method Overriding\n",
    "\n",
    "class A:\n",
    "    def show(self):\n",
    "        print('Blue')\n",
    "        \n",
    "class B(A):\n",
    "    #pass\n",
    "    def show(self):\n",
    "        print('Orange')\n",
    "\n",
    "x = B()\n",
    "x.show()"
   ]
  },
  {
   "cell_type": "markdown",
   "metadata": {},
   "source": [
    "### Encapsulation"
   ]
  },
  {
   "cell_type": "code",
   "execution_count": 130,
   "metadata": {},
   "outputs": [
    {
     "name": "stdout",
     "output_type": "stream",
     "text": [
      "Jim\n"
     ]
    }
   ],
   "source": [
    "class office:\n",
    "    def __init__(self, name, deprtmnt, sal):\n",
    "        self.name = name\n",
    "        self.deprtmnt = deprtmnt\n",
    "        self.__sal = sal                 # using double underscore to set as private\n",
    "        \n",
    "    def set_sal(self, value):\n",
    "        self.__sal = value\n",
    "        \n",
    "    def get_sal(self):\n",
    "        return self.__sal\n",
    "        \n",
    "emp1 = office('Jim', 'Sales', 4000)\n",
    "emp2 = office('Dwight', 'Sales', 4000)\n",
    "emp3 = office('Michael', 'Manager', 6000)\n",
    "\n",
    "print(emp1.name)"
   ]
  },
  {
   "cell_type": "code",
   "execution_count": 131,
   "metadata": {},
   "outputs": [
    {
     "data": {
      "text/plain": [
       "4000"
      ]
     },
     "execution_count": 131,
     "metadata": {},
     "output_type": "execute_result"
    }
   ],
   "source": [
    "emp1.get_sal()"
   ]
  },
  {
   "cell_type": "code",
   "execution_count": 132,
   "metadata": {},
   "outputs": [
    {
     "data": {
      "text/plain": [
       "4000"
      ]
     },
     "execution_count": 132,
     "metadata": {},
     "output_type": "execute_result"
    }
   ],
   "source": [
    "emp1.set_sal = 5000\n",
    "emp1.get_sal()"
   ]
  },
  {
   "cell_type": "markdown",
   "metadata": {},
   "source": [
    "## Exception Handling"
   ]
  },
  {
   "cell_type": "code",
   "execution_count": 156,
   "metadata": {},
   "outputs": [
    {
     "name": "stdout",
     "output_type": "stream",
     "text": [
      "Enter 1st number: 5\n",
      "Enter 2nd number: p\n"
     ]
    },
    {
     "ename": "ValueError",
     "evalue": "invalid literal for int() with base 10: 'p'",
     "output_type": "error",
     "traceback": [
      "\u001b[1;31m---------------------------------------------------------------------------\u001b[0m",
      "\u001b[1;31mValueError\u001b[0m                                Traceback (most recent call last)",
      "\u001b[1;32m<ipython-input-156-928ca1508bc0>\u001b[0m in \u001b[0;36m<module>\u001b[1;34m\u001b[0m\n\u001b[0;32m      1\u001b[0m \u001b[0ma\u001b[0m \u001b[1;33m=\u001b[0m \u001b[0mint\u001b[0m\u001b[1;33m(\u001b[0m\u001b[0minput\u001b[0m\u001b[1;33m(\u001b[0m\u001b[1;34m'Enter 1st number: '\u001b[0m\u001b[1;33m)\u001b[0m\u001b[1;33m)\u001b[0m\u001b[1;33m\u001b[0m\u001b[1;33m\u001b[0m\u001b[0m\n\u001b[1;32m----> 2\u001b[1;33m \u001b[0mb\u001b[0m \u001b[1;33m=\u001b[0m \u001b[0mint\u001b[0m\u001b[1;33m(\u001b[0m\u001b[0minput\u001b[0m\u001b[1;33m(\u001b[0m\u001b[1;34m'Enter 2nd number: '\u001b[0m\u001b[1;33m)\u001b[0m\u001b[1;33m)\u001b[0m\u001b[1;33m\u001b[0m\u001b[1;33m\u001b[0m\u001b[0m\n\u001b[0m\u001b[0;32m      3\u001b[0m \u001b[0mprint\u001b[0m\u001b[1;33m(\u001b[0m\u001b[1;34m'Addition is:'\u001b[0m\u001b[1;33m,\u001b[0m \u001b[0ma\u001b[0m\u001b[1;33m+\u001b[0m\u001b[0mb\u001b[0m\u001b[1;33m)\u001b[0m\u001b[1;33m\u001b[0m\u001b[1;33m\u001b[0m\u001b[0m\n",
      "\u001b[1;31mValueError\u001b[0m: invalid literal for int() with base 10: 'p'"
     ]
    }
   ],
   "source": [
    "a = int(input('Enter 1st number: '))\n",
    "b = int(input('Enter 2nd number: '))\n",
    "print('Addition is:', a+b)"
   ]
  },
  {
   "cell_type": "code",
   "execution_count": 169,
   "metadata": {},
   "outputs": [
    {
     "name": "stdout",
     "output_type": "stream",
     "text": [
      "Enter 1st number: 8\n",
      "Enter 2nd number: p\n",
      "Enter only Numbers\n"
     ]
    }
   ],
   "source": [
    "try:\n",
    "    a = int(input('Enter 1st number: '))\n",
    "    b = int(input('Enter 2nd number: '))\n",
    "    print('Addition is:', a+b)\n",
    "except Exception: \n",
    "    print('Enter only Numbers')"
   ]
  },
  {
   "cell_type": "code",
   "execution_count": 1,
   "metadata": {},
   "outputs": [
    {
     "name": "stdout",
     "output_type": "stream",
     "text": [
      "Enter 1st number: 8p\n",
      "invalid literal for int() with base 10: '8p'\n"
     ]
    }
   ],
   "source": [
    "try:\n",
    "    a = int(input('Enter 1st number: '))\n",
    "    b = int(input('Enter 2nd number: '))\n",
    "    print('Addition is:', a+b)\n",
    "except Exception as e:\n",
    "    print(e)"
   ]
  },
  {
   "cell_type": "code",
   "execution_count": 7,
   "metadata": {},
   "outputs": [
    {
     "name": "stdout",
     "output_type": "stream",
     "text": [
      "Enter 1st number: 5\n",
      "Enter 2nd number: 0\n",
      "Divion by zero is not possible\n"
     ]
    }
   ],
   "source": [
    "try:\n",
    "    a = int(input('Enter 1st number: '))\n",
    "    b = int(input('Enter 2nd number: '))\n",
    "    print('Division is:', a/b)\n",
    "    \n",
    "except ZeroDivisionError as e:\n",
    "    print('Divion by zero is not possible')\n",
    "\n",
    "except ValueError as e:\n",
    "    print('Enter only Numbers')"
   ]
  }
 ],
 "metadata": {
  "kernelspec": {
   "display_name": "Python 3",
   "language": "python",
   "name": "python3"
  },
  "language_info": {
   "codemirror_mode": {
    "name": "ipython",
    "version": 3
   },
   "file_extension": ".py",
   "mimetype": "text/x-python",
   "name": "python",
   "nbconvert_exporter": "python",
   "pygments_lexer": "ipython3",
   "version": "3.8.3"
  }
 },
 "nbformat": 4,
 "nbformat_minor": 4
}
